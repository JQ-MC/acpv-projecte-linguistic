{
 "cells": [
  {
   "attachments": {},
   "cell_type": "markdown",
   "metadata": {},
   "source": [
    "## Preprocessament"
   ]
  },
  {
   "cell_type": "code",
   "execution_count": 3,
   "metadata": {},
   "outputs": [],
   "source": [
    "import pandas as pd\n",
    "import numpy as np"
   ]
  },
  {
   "attachments": {},
   "cell_type": "markdown",
   "metadata": {},
   "source": [
    "Lectura de dades"
   ]
  },
  {
   "cell_type": "code",
   "execution_count": 4,
   "metadata": {},
   "outputs": [],
   "source": [
    "activitats_v = pd.read_csv(\"data/raw/activitats_valencia.csv\")\n",
    "activitats_a = pd.read_csv(\"data/raw/activitats_alacant.csv\")\n",
    "activitats_c = pd.read_csv(\"data/raw/activitats_castello.csv\")\n",
    "ajuntaments_info = pd.read_csv(\"data/raw/ajuntaments_info_raw.csv\")"
   ]
  },
  {
   "attachments": {},
   "cell_type": "markdown",
   "metadata": {},
   "source": [
    "* Seleccio de variables i canvi de nom"
   ]
  },
  {
   "cell_type": "code",
   "execution_count": 5,
   "metadata": {},
   "outputs": [],
   "source": [
    "columns = [\"Marca temporal\", \"Localitat\", \"Data\", \"Categoria\", \"En cas d'altres, quina?\", \"Nom de l'activitat \", \"Companyia, artista\", \"Lloc\", \"Llengua de l'activitat\", \"Preu\", \"Regidoria organitzadora\", \"Llengua de la publicitat\", \"Font\",  \"Persona que ha introduït les dades\"]\n",
    "columns_v = [\"Marca de temps\", \"Localitat\", \"Data\", \"Categoria\", \"En cas d'altres, quina?\", \"Nom de l'activitat \", \"Companyia, artista\", \"Lloc\", \"Llengua de l'activitat\", \"Preu\", \"Regidoria organitzadora\", \"Llengua de la publicitat\", \"Font\",  \"Persona que ha introduït les dades\"]\n",
    "column_rename = [\"marca_temps\", \"localitat\", \"data\", \"categoria\", \"categoria_alternativa\", \"nom_activitat\", \"companyia\", \"lloc\", \"llengua_activitat\", \"preu\", \"regidoria\", \"llengua_publicitat\", \"font\", \"persona_dades\"]\n",
    "columns_info_rename = [\"ajuntament\", \"provincia\", \"comarca\", \"n_habitants\", \"index_envelliment_2021\", \"pob_turistica\", \"govern_22_23\", \"govern_23_24\",  \"subv_us_valencia_2022\", \"predomini_ling\", \"regidoria_cultura_2022\", \"regidoria_cultura_2022\"]"
   ]
  },
  {
   "cell_type": "code",
   "execution_count": 6,
   "metadata": {},
   "outputs": [
    {
     "ename": "ValueError",
     "evalue": "Length mismatch: Expected axis has 12 elements, new values have 10 elements",
     "output_type": "error",
     "traceback": [
      "\u001b[1;31m---------------------------------------------------------------------------\u001b[0m",
      "\u001b[1;31mValueError\u001b[0m                                Traceback (most recent call last)",
      "Cell \u001b[1;32mIn[6], line 7\u001b[0m\n\u001b[0;32m      5\u001b[0m activitats_a \u001b[38;5;241m=\u001b[39m activitats_a[columns]\n\u001b[0;32m      6\u001b[0m activitats_a\u001b[38;5;241m.\u001b[39mcolumns \u001b[38;5;241m=\u001b[39m column_rename\n\u001b[1;32m----> 7\u001b[0m \u001b[43majuntaments_info\u001b[49m\u001b[38;5;241;43m.\u001b[39;49m\u001b[43mcolumns\u001b[49m \u001b[38;5;241m=\u001b[39m columns_info_rename\n",
      "File \u001b[1;32m~\\AppData\\Local\\Packages\\PythonSoftwareFoundation.Python.3.12_qbz5n2kfra8p0\\LocalCache\\local-packages\\Python312\\site-packages\\pandas\\core\\generic.py:6307\u001b[0m, in \u001b[0;36mNDFrame.__setattr__\u001b[1;34m(self, name, value)\u001b[0m\n\u001b[0;32m   6305\u001b[0m \u001b[38;5;28;01mtry\u001b[39;00m:\n\u001b[0;32m   6306\u001b[0m     \u001b[38;5;28mobject\u001b[39m\u001b[38;5;241m.\u001b[39m\u001b[38;5;21m__getattribute__\u001b[39m(\u001b[38;5;28mself\u001b[39m, name)\n\u001b[1;32m-> 6307\u001b[0m     \u001b[38;5;28;01mreturn\u001b[39;00m \u001b[38;5;28;43mobject\u001b[39;49m\u001b[38;5;241;43m.\u001b[39;49m\u001b[38;5;21;43m__setattr__\u001b[39;49m\u001b[43m(\u001b[49m\u001b[38;5;28;43mself\u001b[39;49m\u001b[43m,\u001b[49m\u001b[43m \u001b[49m\u001b[43mname\u001b[49m\u001b[43m,\u001b[49m\u001b[43m \u001b[49m\u001b[43mvalue\u001b[49m\u001b[43m)\u001b[49m\n\u001b[0;32m   6308\u001b[0m \u001b[38;5;28;01mexcept\u001b[39;00m \u001b[38;5;167;01mAttributeError\u001b[39;00m:\n\u001b[0;32m   6309\u001b[0m     \u001b[38;5;28;01mpass\u001b[39;00m\n",
      "File \u001b[1;32mproperties.pyx:69\u001b[0m, in \u001b[0;36mpandas._libs.properties.AxisProperty.__set__\u001b[1;34m()\u001b[0m\n",
      "File \u001b[1;32m~\\AppData\\Local\\Packages\\PythonSoftwareFoundation.Python.3.12_qbz5n2kfra8p0\\LocalCache\\local-packages\\Python312\\site-packages\\pandas\\core\\generic.py:813\u001b[0m, in \u001b[0;36mNDFrame._set_axis\u001b[1;34m(self, axis, labels)\u001b[0m\n\u001b[0;32m    808\u001b[0m \u001b[38;5;250m\u001b[39m\u001b[38;5;124;03m\"\"\"\u001b[39;00m\n\u001b[0;32m    809\u001b[0m \u001b[38;5;124;03mThis is called from the cython code when we set the `index` attribute\u001b[39;00m\n\u001b[0;32m    810\u001b[0m \u001b[38;5;124;03mdirectly, e.g. `series.index = [1, 2, 3]`.\u001b[39;00m\n\u001b[0;32m    811\u001b[0m \u001b[38;5;124;03m\"\"\"\u001b[39;00m\n\u001b[0;32m    812\u001b[0m labels \u001b[38;5;241m=\u001b[39m ensure_index(labels)\n\u001b[1;32m--> 813\u001b[0m \u001b[38;5;28;43mself\u001b[39;49m\u001b[38;5;241;43m.\u001b[39;49m\u001b[43m_mgr\u001b[49m\u001b[38;5;241;43m.\u001b[39;49m\u001b[43mset_axis\u001b[49m\u001b[43m(\u001b[49m\u001b[43maxis\u001b[49m\u001b[43m,\u001b[49m\u001b[43m \u001b[49m\u001b[43mlabels\u001b[49m\u001b[43m)\u001b[49m\n\u001b[0;32m    814\u001b[0m \u001b[38;5;28mself\u001b[39m\u001b[38;5;241m.\u001b[39m_clear_item_cache()\n",
      "File \u001b[1;32m~\\AppData\\Local\\Packages\\PythonSoftwareFoundation.Python.3.12_qbz5n2kfra8p0\\LocalCache\\local-packages\\Python312\\site-packages\\pandas\\core\\internals\\managers.py:239\u001b[0m, in \u001b[0;36mBaseBlockManager.set_axis\u001b[1;34m(self, axis, new_labels)\u001b[0m\n\u001b[0;32m    237\u001b[0m \u001b[38;5;28;01mdef\u001b[39;00m \u001b[38;5;21mset_axis\u001b[39m(\u001b[38;5;28mself\u001b[39m, axis: AxisInt, new_labels: Index) \u001b[38;5;241m-\u001b[39m\u001b[38;5;241m>\u001b[39m \u001b[38;5;28;01mNone\u001b[39;00m:\n\u001b[0;32m    238\u001b[0m     \u001b[38;5;66;03m# Caller is responsible for ensuring we have an Index object.\u001b[39;00m\n\u001b[1;32m--> 239\u001b[0m     \u001b[38;5;28;43mself\u001b[39;49m\u001b[38;5;241;43m.\u001b[39;49m\u001b[43m_validate_set_axis\u001b[49m\u001b[43m(\u001b[49m\u001b[43maxis\u001b[49m\u001b[43m,\u001b[49m\u001b[43m \u001b[49m\u001b[43mnew_labels\u001b[49m\u001b[43m)\u001b[49m\n\u001b[0;32m    240\u001b[0m     \u001b[38;5;28mself\u001b[39m\u001b[38;5;241m.\u001b[39maxes[axis] \u001b[38;5;241m=\u001b[39m new_labels\n",
      "File \u001b[1;32m~\\AppData\\Local\\Packages\\PythonSoftwareFoundation.Python.3.12_qbz5n2kfra8p0\\LocalCache\\local-packages\\Python312\\site-packages\\pandas\\core\\internals\\base.py:98\u001b[0m, in \u001b[0;36mDataManager._validate_set_axis\u001b[1;34m(self, axis, new_labels)\u001b[0m\n\u001b[0;32m     95\u001b[0m     \u001b[38;5;28;01mpass\u001b[39;00m\n\u001b[0;32m     97\u001b[0m \u001b[38;5;28;01melif\u001b[39;00m new_len \u001b[38;5;241m!=\u001b[39m old_len:\n\u001b[1;32m---> 98\u001b[0m     \u001b[38;5;28;01mraise\u001b[39;00m \u001b[38;5;167;01mValueError\u001b[39;00m(\n\u001b[0;32m     99\u001b[0m         \u001b[38;5;124mf\u001b[39m\u001b[38;5;124m\"\u001b[39m\u001b[38;5;124mLength mismatch: Expected axis has \u001b[39m\u001b[38;5;132;01m{\u001b[39;00mold_len\u001b[38;5;132;01m}\u001b[39;00m\u001b[38;5;124m elements, new \u001b[39m\u001b[38;5;124m\"\u001b[39m\n\u001b[0;32m    100\u001b[0m         \u001b[38;5;124mf\u001b[39m\u001b[38;5;124m\"\u001b[39m\u001b[38;5;124mvalues have \u001b[39m\u001b[38;5;132;01m{\u001b[39;00mnew_len\u001b[38;5;132;01m}\u001b[39;00m\u001b[38;5;124m elements\u001b[39m\u001b[38;5;124m\"\u001b[39m\n\u001b[0;32m    101\u001b[0m     )\n",
      "\u001b[1;31mValueError\u001b[0m: Length mismatch: Expected axis has 12 elements, new values have 10 elements"
     ]
    }
   ],
   "source": [
    "activitats_v = activitats_v[columns_v]\n",
    "activitats_v.columns = column_rename\n",
    "activitats_c = activitats_c[columns]\n",
    "activitats_c.columns = column_rename\n",
    "activitats_a = activitats_a[columns]\n",
    "activitats_a.columns = column_rename\n",
    "ajuntaments_info.columns = columns_info_rename"
   ]
  },
  {
   "attachments": {},
   "cell_type": "markdown",
   "metadata": {},
   "source": [
    "* Juntem els 3 datasets per a conformar el dataset activitats"
   ]
  },
  {
   "cell_type": "code",
   "execution_count": null,
   "metadata": {},
   "outputs": [],
   "source": [
    "activitats = pd.concat([activitats_a, activitats_v, activitats_c], axis = 0)"
   ]
  },
  {
   "cell_type": "code",
   "execution_count": null,
   "metadata": {},
   "outputs": [
    {
     "data": {
      "text/plain": [
       "(7451, 14)"
      ]
     },
     "execution_count": 6,
     "metadata": {},
     "output_type": "execute_result"
    }
   ],
   "source": [
    "activitats.shape"
   ]
  },
  {
   "attachments": {},
   "cell_type": "markdown",
   "metadata": {},
   "source": [
    "## Preprocessament de dades\n",
    "\n",
    "* Tranformacions en variables\n",
    "\n",
    "**ajuntaments_info**\n",
    "\n",
    "pob_turistica"
   ]
  },
  {
   "cell_type": "code",
   "execution_count": null,
   "metadata": {},
   "outputs": [
    {
     "name": "stderr",
     "output_type": "stream",
     "text": [
      "c:\\Users\\quimm\\Anaconda3\\envs\\venv\\lib\\site-packages\\pandas\\core\\indexing.py:1732: SettingWithCopyWarning: \n",
      "A value is trying to be set on a copy of a slice from a DataFrame\n",
      "\n",
      "See the caveats in the documentation: https://pandas.pydata.org/pandas-docs/stable/user_guide/indexing.html#returning-a-view-versus-a-copy\n",
      "  self._setitem_single_block(indexer, value, name)\n"
     ]
    }
   ],
   "source": [
    "# Adegim el valor \"No\" a aquelles poblacions que falten dades\n",
    "ajuntaments_info[\"pob_turistica\"].loc[ajuntaments_info[\"pob_turistica\"].isnull()] = \"No\""
   ]
  },
  {
   "attachments": {},
   "cell_type": "markdown",
   "metadata": {},
   "source": [
    "index_envelliment_2021"
   ]
  },
  {
   "cell_type": "code",
   "execution_count": null,
   "metadata": {},
   "outputs": [],
   "source": [
    "ajuntaments_info[\"index_envelliment_2021\"] = pd.to_numeric(ajuntaments_info[\"index_envelliment_2021\"].str.replace(\",\", \".\") )"
   ]
  },
  {
   "attachments": {},
   "cell_type": "markdown",
   "metadata": {},
   "source": [
    "subv_us_valencia_2022"
   ]
  },
  {
   "cell_type": "code",
   "execution_count": null,
   "metadata": {},
   "outputs": [
    {
     "name": "stderr",
     "output_type": "stream",
     "text": [
      "C:\\Users\\quimm\\AppData\\Local\\Temp/ipykernel_13468/2853699601.py:1: FutureWarning: The default value of regex will change from True to False in a future version. In addition, single character regular expressions will *not* be treated as literal strings when regex=True.\n",
      "  ajuntaments_info[\"subv_us_valencia_2022\"] = pd.to_numeric(ajuntaments_info[\"subv_us_valencia_2022\"].str.replace(\".\", \"\").str.replace(\"€\", \"\").str.replace(\",\", \".\") )\n"
     ]
    }
   ],
   "source": [
    "ajuntaments_info[\"subv_us_valencia_2022\"] = pd.to_numeric(ajuntaments_info[\"subv_us_valencia_2022\"].str.replace(\".\", \"\").str.replace(\"€\", \"\").str.replace(\",\", \".\") )"
   ]
  },
  {
   "attachments": {},
   "cell_type": "markdown",
   "metadata": {},
   "source": [
    "**activitats**\n",
    "\n",
    "llengua_activitat"
   ]
  },
  {
   "cell_type": "code",
   "execution_count": null,
   "metadata": {},
   "outputs": [],
   "source": [
    "def assign_value_more_than_2_languages(llengua_activitat):\n",
    "    \"\"\"\n",
    "    si la variable té dos llengues o més, el valor canvia a \"Dos o més llengües\"\n",
    "    \"\"\"\n",
    "    llengua_activitat_split = llengua_activitat.split(\", \")\n",
    "\n",
    "    if len(llengua_activitat_split) > 1:\n",
    "        if \"Activitat sense llengua\" not in llengua_activitat_split and \"No hi ha informació\" not in llengua_activitat_split:\n",
    "            return \"Dos o més llengües\"\n",
    "    \n",
    "    return llengua_activitat"
   ]
  },
  {
   "cell_type": "code",
   "execution_count": null,
   "metadata": {},
   "outputs": [],
   "source": [
    "activitats[\"llengua_activitat\"] = activitats[\"llengua_activitat\"].apply(lambda x: assign_value_more_than_2_languages(x))"
   ]
  },
  {
   "attachments": {},
   "cell_type": "markdown",
   "metadata": {},
   "source": [
    "localitat"
   ]
  },
  {
   "cell_type": "code",
   "execution_count": null,
   "metadata": {},
   "outputs": [],
   "source": [
    "activitats = activitats.loc[activitats[\"localitat\"] != \"Bilingüe\"]\n",
    "activitats = activitats.loc[activitats[\"localitat\"] != \"Monforte del Cid\"]"
   ]
  },
  {
   "attachments": {},
   "cell_type": "markdown",
   "metadata": {},
   "source": [
    "data"
   ]
  },
  {
   "cell_type": "code",
   "execution_count": null,
   "metadata": {},
   "outputs": [],
   "source": [
    "activitats = activitats.loc[~pd.to_datetime(activitats.data, format= \"%d/%m/%Y\").dt.month.isin([4,5])]"
   ]
  },
  {
   "attachments": {},
   "cell_type": "markdown",
   "metadata": {},
   "source": [
    "Variables de text"
   ]
  },
  {
   "cell_type": "code",
   "execution_count": null,
   "metadata": {},
   "outputs": [],
   "source": [
    "activitats.nom_activitat=activitats.nom_activitat.str.replace(\",\", \";\")\n",
    "activitats.nom_activitat = activitats.nom_activitat.str.replace(\"\\n\", \"\")\n",
    "activitats.nom_activitat = activitats.nom_activitat.str.replace(\"\\r\", \"\")\n",
    "activitats.companyia = activitats.companyia.str.replace(\",\", \";\")\n",
    "activitats.lloc = activitats.lloc.str.replace(\",\", \";\")\n",
    "activitats.preu = activitats.preu.str.replace(\",\", \";\")"
   ]
  },
  {
   "attachments": {},
   "cell_type": "markdown",
   "metadata": {},
   "source": [
    "* Creació de noves variables\n",
    "\n",
    "Preu_mitjà"
   ]
  },
  {
   "cell_type": "code",
   "execution_count": null,
   "metadata": {},
   "outputs": [
    {
     "name": "stderr",
     "output_type": "stream",
     "text": [
      "c:\\Users\\quimm\\Anaconda3\\envs\\venv\\lib\\site-packages\\numpy\\core\\fromnumeric.py:3440: RuntimeWarning: Mean of empty slice.\n",
      "  return _methods._mean(a, axis=axis, dtype=dtype,\n"
     ]
    }
   ],
   "source": [
    "activitats[\"preu_mitja\"] = activitats.preu.str.findall(r\"\\d+[,'.]?\\d*\")\n",
    "activitats[\"preu_mitja\"].loc[activitats.preu.notnull()] = activitats.loc[activitats.preu.notnull()].preu_mitja.apply(lambda x: np.float64(np.mean([float(num.replace(\"'\", \".\").replace(\",\", \".\")) for num in x])))"
   ]
  },
  {
   "cell_type": "code",
   "execution_count": null,
   "metadata": {},
   "outputs": [
    {
     "data": {
      "text/plain": [
       "pandas.core.series.Series"
      ]
     },
     "execution_count": 16,
     "metadata": {},
     "output_type": "execute_result"
    }
   ],
   "source": [
    "type(activitats[\"preu_mitja\"].loc[activitats.preu.notnull()][0])"
   ]
  },
  {
   "cell_type": "code",
   "execution_count": null,
   "metadata": {},
   "outputs": [],
   "source": [
    "# Modifiquem el . per , per problemes de codificacio en els analistes\n",
    "#activitats[\"preu_mitja\"] = activitats[\"preu_mitja\"].apply(lambda num: str(num).replace(\".\", \",\"))"
   ]
  },
  {
   "attachments": {},
   "cell_type": "markdown",
   "metadata": {},
   "source": [
    "Categoria New"
   ]
  },
  {
   "cell_type": "code",
   "execution_count": null,
   "metadata": {},
   "outputs": [],
   "source": [
    "def assign_category(category_alternative):\n",
    "\n",
    "    if type(category_alternative) != str:\n",
    "        category_new = np.nan\n",
    "    else:\n",
    "        category_alternative = category_alternative.lower()\n",
    "        if \"fall\" in category_alternative:\n",
    "            category_new = \"Falles\"\n",
    "        elif \"màg\" in category_alternative:\n",
    "            category_new = \"Màgia\"\n",
    "        elif \"visita\" in category_alternative:\n",
    "            category_new = \"Activitats sobre patrimoni\"\n",
    "        elif \"circ\" in category_alternative:\n",
    "            category_new = \"Circ\"\n",
    "        elif \"concu\" in category_alternative:\n",
    "            category_new = \"Concurs\"\n",
    "        elif \"premi\" in category_alternative:\n",
    "            category_new = \"Premis\"\n",
    "        elif \"taller\" in category_alternative:\n",
    "            category_new = \"Taller\"\n",
    "        elif \"espectac\" in category_alternative:\n",
    "            category_new = \"Espectacle\"\n",
    "        else:\n",
    "            category_new = np.nan\n",
    "\n",
    "    return category_new\n"
   ]
  },
  {
   "cell_type": "code",
   "execution_count": null,
   "metadata": {},
   "outputs": [],
   "source": [
    "activitats[\"categoria_new\"] = activitats[\"categoria_alternativa\"].apply(assign_category)\n",
    "activitats[\"categoria_new\"] = np.where(activitats['categoria_new'].isnull(), activitats['categoria'], activitats['categoria_new'])"
   ]
  },
  {
   "attachments": {},
   "cell_type": "markdown",
   "metadata": {},
   "source": [
    "Mes"
   ]
  },
  {
   "cell_type": "code",
   "execution_count": null,
   "metadata": {},
   "outputs": [],
   "source": [
    "activitats[\"Mes\"] = pd.to_datetime(activitats.data, format= \"%d/%m/%Y\").dt.month_name()"
   ]
  },
  {
   "attachments": {},
   "cell_type": "markdown",
   "metadata": {},
   "source": [
    "* Nou conjunt de dades: activitats_summaries.csv\n",
    "\n",
    "llengua activitat"
   ]
  },
  {
   "cell_type": "code",
   "execution_count": null,
   "metadata": {},
   "outputs": [],
   "source": [
    "grup1 = activitats.groupby([\"localitat\",\"llengua_activitat\"])[\"llengua_activitat\"].count()\n",
    "grup1 = pd.DataFrame(grup1)\n",
    "grup1.columns = [\"count_llengua\"]\n",
    "grup1= grup1.reset_index()\n",
    "\n",
    "grup1 = grup1.groupby(\"localitat\").apply(lambda x : x.sort_values(by = 'count_llengua', ascending = False).head(3).reset_index(drop = True))\n",
    "grup1.columns = [\"localitat_col\", 'llengua_activitat', 'count_llengua']\n",
    "\n",
    "llengua_activitat_top1 = grup1.groupby(\"localitat\").apply(lambda x : x.head(1).reset_index(drop = True))[\"llengua_activitat\"]\n",
    "llengua_activitat_top2 = grup1.groupby(\"localitat\").apply(lambda x : x.head(2).tail(1).reset_index(drop = True))[\"llengua_activitat\"]\n",
    "llengua_activitat_top3 = grup1.groupby(\"localitat\").apply(lambda x : x.tail(1).reset_index(drop = True))[\"llengua_activitat\"]"
   ]
  },
  {
   "attachments": {},
   "cell_type": "markdown",
   "metadata": {},
   "source": [
    "llengua publicitat"
   ]
  },
  {
   "cell_type": "code",
   "execution_count": null,
   "metadata": {},
   "outputs": [],
   "source": [
    "grup1 = activitats.groupby([\"localitat\",\"llengua_publicitat\"])[\"llengua_publicitat\"].count()\n",
    "grup1 = pd.DataFrame(grup1)\n",
    "grup1.columns = [\"count_llengua\"]\n",
    "grup1= grup1.reset_index()\n",
    "\n",
    "grup1 = grup1.groupby(\"localitat\").apply(lambda x : x.sort_values(by = 'count_llengua', ascending = False).head(2).reset_index(drop = True))\n",
    "grup1.columns = [\"localitat_col\", 'llengua_activitat', 'count_llengua']\n",
    "\n",
    "llengua_publicitat_top1 = grup1.groupby(\"localitat\").apply(lambda x : x.head(1).reset_index(drop = True))[\"llengua_activitat\"]\n",
    "llengua_publicitat_top2 = grup1.groupby(\"localitat\").apply(lambda x : x.tail(1).reset_index(drop = True))[\"llengua_activitat\"]"
   ]
  },
  {
   "attachments": {},
   "cell_type": "markdown",
   "metadata": {},
   "source": [
    "Language position"
   ]
  },
  {
   "cell_type": "code",
   "execution_count": null,
   "metadata": {},
   "outputs": [],
   "source": [
    "grup1 = activitats.groupby([\"localitat\",\"llengua_activitat\"])[\"llengua_activitat\"].count()\n",
    "grup1 = pd.DataFrame(grup1)\n",
    "grup1.columns = [\"count_llengua\"]\n",
    "grup1= grup1.reset_index()\n",
    "\n",
    "grup1 = grup1.groupby(\"localitat\").apply(lambda x : x.sort_values(by = 'count_llengua', ascending = False).reset_index(drop = True))\n",
    "grup1.columns = [\"localitat_col\", 'llengua_activitat', 'count_llengua']"
   ]
  },
  {
   "cell_type": "code",
   "execution_count": null,
   "metadata": {},
   "outputs": [],
   "source": [
    "pos_val = grup1.groupby(\"localitat\").apply(lambda x : x.index[x[\"llengua_activitat\"]==\"Valencià/català\"])\n",
    "pos_val = pd.DataFrame(pos_val)\n",
    "\n",
    "pos_cas = grup1.groupby(\"localitat\").apply(lambda x : x.index[x[\"llengua_activitat\"]==\"Espanyol\"])\n",
    "pos_cas = pd.DataFrame(pos_cas)"
   ]
  },
  {
   "cell_type": "code",
   "execution_count": null,
   "metadata": {},
   "outputs": [],
   "source": [
    "def get_position(array):\n",
    "    \"get the position of the language in the most used ones. If not used, number 5 assigned\"\n",
    "    try:\n",
    "        return array[0][0][1]\n",
    "    except:\n",
    "        return 5"
   ]
  },
  {
   "cell_type": "code",
   "execution_count": null,
   "metadata": {},
   "outputs": [],
   "source": [
    "positions_val = []\n",
    "\n",
    "for i in range(pos_val.shape[0]):\n",
    "    positions_val.append(get_position(pos_val.iloc[i]))"
   ]
  },
  {
   "cell_type": "code",
   "execution_count": null,
   "metadata": {},
   "outputs": [],
   "source": [
    "positions_cas = []\n",
    "\n",
    "for i in range(pos_cas.shape[0]):\n",
    "    positions_cas.append(get_position(pos_cas.iloc[i]))"
   ]
  },
  {
   "attachments": {},
   "cell_type": "markdown",
   "metadata": {},
   "source": [
    "N activitats"
   ]
  },
  {
   "cell_type": "code",
   "execution_count": null,
   "metadata": {},
   "outputs": [],
   "source": [
    "grup1 = activitats.groupby([\"localitat\"])[\"llengua_activitat\"].count()\n",
    "n_activivitats = grup1.values"
   ]
  },
  {
   "attachments": {},
   "cell_type": "markdown",
   "metadata": {},
   "source": [
    "* Creating datasets\n",
    "\n",
    "activitats_summaries"
   ]
  },
  {
   "cell_type": "code",
   "execution_count": null,
   "metadata": {},
   "outputs": [],
   "source": [
    "activitats_summaries = pd.DataFrame(llengua_activitat_top1)\n",
    "activitats_summaries = activitats_summaries.reset_index()\n",
    "del activitats_summaries[\"level_1\"]\n",
    "activitats_summaries.columns = ['localitat', 'llengua_activitat_top1']"
   ]
  },
  {
   "cell_type": "code",
   "execution_count": null,
   "metadata": {},
   "outputs": [],
   "source": [
    "activitats_summaries['llengua_activitat_top2'] = llengua_activitat_top2.values\n",
    "activitats_summaries['llengua_activitat_top3'] = llengua_activitat_top3.values\n",
    "activitats_summaries['llengua_publicitat_top1'] = llengua_publicitat_top1.values\n",
    "activitats_summaries['llengua_publicitat_top2'] = llengua_publicitat_top2.values\n",
    "activitats_summaries[\"position_val_in_llengua_activitat\"] = positions_val\n",
    "activitats_summaries[\"position_esp_in_llengua_activitat\"] = positions_cas\n",
    "activitats_summaries[\"n_activitats\"] = n_activivitats"
   ]
  },
  {
   "cell_type": "code",
   "execution_count": null,
   "metadata": {},
   "outputs": [],
   "source": [
    "#ratio_activitats_nhabitants\n",
    "aux = activitats_summaries.merge(ajuntaments_info[[\"ajuntament\", \"n_habitants\"]], how ='left', left_on=\"localitat\", right_on = \"ajuntament\")\n",
    "activitats_summaries[\"ratio_activitats_nhabitants\"] = aux[\"n_activitats\"]/(aux[\"n_habitants\"]/1000)"
   ]
  },
  {
   "attachments": {},
   "cell_type": "markdown",
   "metadata": {},
   "source": [
    "Saving Datasets"
   ]
  },
  {
   "cell_type": "code",
   "execution_count": null,
   "metadata": {},
   "outputs": [],
   "source": [
    "activitats.to_csv(\"data/activitats.csv\", index=False)"
   ]
  },
  {
   "cell_type": "code",
   "execution_count": null,
   "metadata": {},
   "outputs": [],
   "source": [
    "activitats_summaries.to_csv(\"data/activitats_summaries.csv\", index=False)"
   ]
  },
  {
   "cell_type": "code",
   "execution_count": null,
   "metadata": {},
   "outputs": [],
   "source": [
    "ajuntaments_info.to_csv(\"data/ajuntaments_info.csv\", index=False)"
   ]
  }
 ],
 "metadata": {
  "kernelspec": {
   "display_name": "venv",
   "language": "python",
   "name": "python3"
  },
  "language_info": {
   "codemirror_mode": {
    "name": "ipython",
    "version": 3
   },
   "file_extension": ".py",
   "mimetype": "text/x-python",
   "name": "python",
   "nbconvert_exporter": "python",
   "pygments_lexer": "ipython3",
   "version": "3.12.2"
  },
  "orig_nbformat": 4,
  "vscode": {
   "interpreter": {
    "hash": "cdd68e89fe3ff60b6cbcb506f0552d45d9c5caef7bd69e133c5dbfc2473a5985"
   }
  }
 },
 "nbformat": 4,
 "nbformat_minor": 2
}
