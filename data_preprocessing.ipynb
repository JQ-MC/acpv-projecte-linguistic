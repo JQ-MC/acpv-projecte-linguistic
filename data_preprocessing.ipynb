{
 "cells": [
  {
   "cell_type": "markdown",
   "metadata": {},
   "source": []
  },
  {
   "cell_type": "code",
   "execution_count": 3,
   "metadata": {},
   "outputs": [],
   "source": [
    "import pandas as pd\n",
    "import numpy as np"
   ]
  },
  {
   "attachments": {},
   "cell_type": "markdown",
   "metadata": {},
   "source": [
    "Lectura de dades"
   ]
  },
  {
   "cell_type": "code",
   "execution_count": 28,
   "metadata": {},
   "outputs": [],
   "source": [
    "activitats_v = pd.read_csv(\"data/activitats_valencia.csv\")\n",
    "activitats_a = pd.read_csv(\"data/activitats_alacant.csv\")\n",
    "activitats_c = pd.read_csv(\"data/activitats_castello.csv\")\n",
    "ajuntaments_info = pd.read_csv(\"data/ajuntaments_info.csv\")"
   ]
  },
  {
   "attachments": {},
   "cell_type": "markdown",
   "metadata": {},
   "source": [
    "* Seleccio de variables i canvi de nom"
   ]
  },
  {
   "cell_type": "code",
   "execution_count": 27,
   "metadata": {},
   "outputs": [],
   "source": [
    "columns = [\"Marca temporal\", \"Localitat\", \"Data\", \"Categoria\", \"En cas d'altres, quina?\", \"Nom de l'activitat \", \"Companyia, artista\", \"Lloc\", \"Llengua de l'activitat\", \"Preu\", \"Regidoria organitzadora\", \"Llengua de la publicitat\", \"Font\",  \"Persona que ha introduït les dades\"]\n",
    "columns_v = [\"Marca de temps\", \"Localitat\", \"Data\", \"Categoria\", \"En cas d'altres, quina?\", \"Nom de l'activitat \", \"Companyia, artista\", \"Lloc\", \"Llengua de l'activitat\", \"Preu\", \"Regidoria organitzadora\", \"Llengua de la publicitat\", \"Font\",  \"Persona que ha introduït les dades\"]\n",
    "column_rename = [\"marca_temps\", \"localitat\", \"data\", \"categoria\", \"categoria_alternativa\", \"nom_activitat\", \"companyia\", \"lloc\", \"llengua_activitat\", \"preu\", \"regidoria\", \"llengua_publicitat\", \"font\", \"persona_dades\"]"
   ]
  },
  {
   "cell_type": "code",
   "execution_count": 29,
   "metadata": {},
   "outputs": [],
   "source": [
    "activitats_v = activitats_v[columns_v]\n",
    "activitats_v.columns = column_rename\n",
    "activitats_c = activitats_c[columns]\n",
    "activitats_c.columns = column_rename\n",
    "activitats_a = activitats_a[columns]\n",
    "activitats_a.columns = column_rename"
   ]
  },
  {
   "attachments": {},
   "cell_type": "markdown",
   "metadata": {},
   "source": [
    "* Juntem els 3 datasets"
   ]
  },
  {
   "cell_type": "code",
   "execution_count": 34,
   "metadata": {},
   "outputs": [],
   "source": [
    "activitats = pd.concat([activitats_a, activitats_v, activitats_c], axis = 0)"
   ]
  },
  {
   "cell_type": "code",
   "execution_count": 35,
   "metadata": {},
   "outputs": [
    {
     "data": {
      "text/plain": [
       "(6899, 14)"
      ]
     },
     "execution_count": 35,
     "metadata": {},
     "output_type": "execute_result"
    }
   ],
   "source": [
    "activitats.shape"
   ]
  },
  {
   "attachments": {},
   "cell_type": "markdown",
   "metadata": {},
   "source": [
    "* Preprocessament de dades"
   ]
  },
  {
   "attachments": {},
   "cell_type": "markdown",
   "metadata": {},
   "source": [
    "* Creació de noves variables\n",
    "\n",
    "Preu_mitjà"
   ]
  },
  {
   "cell_type": "code",
   "execution_count": 69,
   "metadata": {},
   "outputs": [
    {
     "name": "stderr",
     "output_type": "stream",
     "text": [
      "c:\\Users\\quimm\\Anaconda3\\envs\\venv\\lib\\site-packages\\numpy\\core\\fromnumeric.py:3440: RuntimeWarning: Mean of empty slice.\n",
      "  return _methods._mean(a, axis=axis, dtype=dtype,\n"
     ]
    }
   ],
   "source": [
    "activitats[\"preu_mitja\"] = activitats.preu.str.findall(r\"\\d+[,'.]?\\d*\")\n",
    "activitats[\"preu_mitja\"].loc[activitats.preu.notnull()] = activitats.loc[activitats.preu.notnull()].preu_mitja.apply(lambda x: np.mean([float(num.replace(\"'\", \".\").replace(\",\", \".\")) for num in x]))"
   ]
  },
  {
   "attachments": {},
   "cell_type": "markdown",
   "metadata": {},
   "source": [
    "Categoria New"
   ]
  },
  {
   "cell_type": "code",
   "execution_count": 88,
   "metadata": {},
   "outputs": [],
   "source": [
    "def assign_category(category_alternative):\n",
    "\n",
    "    if type(category_alternative) != str:\n",
    "        category_new = np.nan\n",
    "    else:\n",
    "        category_alternative = category_alternative.lower()\n",
    "        if \"fall\" in category_alternative:\n",
    "            category_new = \"Falles\"\n",
    "        elif \"màg\" in category_alternative:\n",
    "            category_new = \"Màgia\"\n",
    "        elif \"visita\" in category_alternative:\n",
    "            category_new = \"Activitats sobre patrimoni\"\n",
    "        elif \"circ\" in category_alternative:\n",
    "            category_new = \"Circ\"\n",
    "        elif \"concu\" in category_alternative:\n",
    "            category_new = \"Concurs\"\n",
    "        elif \"premi\" in category_alternative:\n",
    "            category_new = \"Premis\"\n",
    "        elif \"taller\" in category_alternative:\n",
    "            category_new = \"Taller\"\n",
    "        elif \"espectac\" in category_alternative:\n",
    "            category_new = \"Espectacle\"\n",
    "        else:\n",
    "            category_new = np.nan\n",
    "\n",
    "    return category_new\n"
   ]
  },
  {
   "cell_type": "code",
   "execution_count": 92,
   "metadata": {},
   "outputs": [],
   "source": [
    "activitats[\"categoria_new\"] = activitats[\"categoria_alternativa\"].apply(assign_category)\n",
    "activitats[\"categoria_new\"] = np.where(activitats['categoria_new'].isnull(), activitats['categoria'], activitats['categoria_new'])"
   ]
  },
  {
   "attachments": {},
   "cell_type": "markdown",
   "metadata": {},
   "source": [
    "* Agrupacions\n",
    "\n",
    "llengua activitat"
   ]
  },
  {
   "cell_type": "code",
   "execution_count": 153,
   "metadata": {},
   "outputs": [],
   "source": [
    "grup1 = activitats.groupby([\"localitat\",\"llengua_activitat\"])[\"llengua_activitat\"].count()\n",
    "grup1 = pd.DataFrame(grup1)\n",
    "grup1.columns = [\"count_llengua\"]\n",
    "grup1= grup1.reset_index()\n",
    "\n",
    "grup1 = grup1.groupby(\"localitat\").apply(lambda x : x.sort_values(by = 'count_llengua', ascending = False).head(3).reset_index(drop = True))\n",
    "grup1.columns = [\"localitat_col\", 'llengua_activitat', 'count_llengua']\n",
    "\n",
    "llengua_activitat_top1 = grup1.groupby(\"localitat\").apply(lambda x : x.head(1).reset_index(drop = True))[\"llengua_activitat\"]\n",
    "llengua_activitat_top2 = grup1.groupby(\"localitat\").apply(lambda x : x.head(2).tail(1).reset_index(drop = True))[\"llengua_activitat\"]\n",
    "llengua_activitat_top3 = grup1.groupby(\"localitat\").apply(lambda x : x.tail(1).reset_index(drop = True))[\"llengua_activitat\"]"
   ]
  },
  {
   "attachments": {},
   "cell_type": "markdown",
   "metadata": {},
   "source": [
    "llengua publicitat"
   ]
  },
  {
   "cell_type": "code",
   "execution_count": 150,
   "metadata": {},
   "outputs": [],
   "source": [
    "grup1 = activitats.groupby([\"localitat\",\"llengua_publicitat\"])[\"llengua_publicitat\"].count()\n",
    "grup1 = pd.DataFrame(grup1)\n",
    "grup1.columns = [\"count_llengua\"]\n",
    "grup1= grup1.reset_index()\n",
    "\n",
    "grup1 = grup1.groupby(\"localitat\").apply(lambda x : x.sort_values(by = 'count_llengua', ascending = False).head(2).reset_index(drop = True))\n",
    "grup1.columns = [\"localitat_col\", 'llengua_activitat', 'count_llengua']\n",
    "\n",
    "llengua_publicitat_top1 = grup1.groupby(\"localitat\").apply(lambda x : x.head(1).reset_index(drop = True))[\"llengua_activitat\"]\n",
    "llengua_publicitat_top2 = grup1.groupby(\"localitat\").apply(lambda x : x.tail(1).reset_index(drop = True))[\"llengua_activitat\"]"
   ]
  },
  {
   "attachments": {},
   "cell_type": "markdown",
   "metadata": {},
   "source": [
    "Language position"
   ]
  },
  {
   "cell_type": "code",
   "execution_count": 297,
   "metadata": {},
   "outputs": [],
   "source": [
    "grup1 = activitats.groupby([\"localitat\",\"llengua_activitat\"])[\"llengua_activitat\"].count()\n",
    "grup1 = pd.DataFrame(grup1)\n",
    "grup1.columns = [\"count_llengua\"]\n",
    "grup1= grup1.reset_index()\n",
    "\n",
    "grup1 = grup1.groupby(\"localitat\").apply(lambda x : x.sort_values(by = 'count_llengua', ascending = False).reset_index(drop = True))\n",
    "grup1.columns = [\"localitat_col\", 'llengua_activitat', 'count_llengua']"
   ]
  },
  {
   "cell_type": "code",
   "execution_count": 304,
   "metadata": {},
   "outputs": [],
   "source": [
    "pos_val = grup1.groupby(\"localitat\").apply(lambda x : x.index[x[\"llengua_activitat\"]==\"Valencià/català\"])\n",
    "pos_val = pd.DataFrame(pos_val)\n",
    "\n",
    "pos_cas = grup1.groupby(\"localitat\").apply(lambda x : x.index[x[\"llengua_activitat\"]==\"Espanyol\"])\n",
    "pos_cas = pd.DataFrame(pos_cas)"
   ]
  },
  {
   "cell_type": "code",
   "execution_count": 291,
   "metadata": {},
   "outputs": [],
   "source": [
    "def get_position(array):\n",
    "    try:\n",
    "        return array[0][0][1]\n",
    "    except:\n",
    "        return np.nan"
   ]
  },
  {
   "cell_type": "code",
   "execution_count": 301,
   "metadata": {},
   "outputs": [],
   "source": [
    "positions_val = []\n",
    "\n",
    "for i in range(pos_val.shape[0]):\n",
    "    positions_val.append(get_position(pos_val.iloc[i]))"
   ]
  },
  {
   "cell_type": "code",
   "execution_count": 305,
   "metadata": {},
   "outputs": [],
   "source": [
    "positions_cas = []\n",
    "\n",
    "for i in range(pos_cas.shape[0]):\n",
    "    positions_cas.append(get_position(pos_cas.iloc[i]))"
   ]
  },
  {
   "cell_type": "markdown",
   "metadata": {},
   "source": []
  },
  {
   "attachments": {},
   "cell_type": "markdown",
   "metadata": {},
   "source": [
    "* Creating datasets\n",
    "\n",
    "activitats_summaries"
   ]
  },
  {
   "cell_type": "code",
   "execution_count": 233,
   "metadata": {},
   "outputs": [],
   "source": [
    "activitats_summaries = pd.DataFrame(llengua_activitat_top1)\n",
    "activitats_summaries = activitats_summaries.reset_index()\n",
    "del activitats_summaries[\"level_1\"]\n",
    "activitats_summaries.columns = ['localitat', 'llengua_activitat_top1']"
   ]
  },
  {
   "cell_type": "code",
   "execution_count": 313,
   "metadata": {},
   "outputs": [],
   "source": [
    "activitats_summaries['llengua_activitat_top2'] = llengua_activitat_top2.values\n",
    "activitats_summaries['llengua_activitat_top3'] = llengua_activitat_top3.values\n",
    "activitats_summaries['llengua_publicitat_top1'] = llengua_publicitat_top1.values\n",
    "activitats_summaries['llengua_publicitat_top2'] = llengua_publicitat_top2.values\n",
    "activitats_summaries[\"position_val_in_llengua_activitat\"] = positions_val\n",
    "activitats_summaries[\"position_esp_in_llengua_activitat\"] = positions_cas"
   ]
  },
  {
   "cell_type": "code",
   "execution_count": 310,
   "metadata": {},
   "outputs": [
    {
     "data": {
      "text/html": [
       "<div>\n",
       "<style scoped>\n",
       "    .dataframe tbody tr th:only-of-type {\n",
       "        vertical-align: middle;\n",
       "    }\n",
       "\n",
       "    .dataframe tbody tr th {\n",
       "        vertical-align: top;\n",
       "    }\n",
       "\n",
       "    .dataframe thead th {\n",
       "        text-align: right;\n",
       "    }\n",
       "</style>\n",
       "<table border=\"1\" class=\"dataframe\">\n",
       "  <thead>\n",
       "    <tr style=\"text-align: right;\">\n",
       "      <th></th>\n",
       "      <th>localitat</th>\n",
       "      <th>llengua_activitat_top1</th>\n",
       "      <th>llengua_activitat_top2</th>\n",
       "      <th>llengua_activitat_top3</th>\n",
       "      <th>llengua_publicitat_top1</th>\n",
       "      <th>llengua_publicitat_top2</th>\n",
       "      <th>position_val_in_llengua_publicitat</th>\n",
       "      <th>position_esp_in_llengua_publicitat</th>\n",
       "    </tr>\n",
       "  </thead>\n",
       "  <tbody>\n",
       "    <tr>\n",
       "      <th>0</th>\n",
       "      <td>Alacant</td>\n",
       "      <td>Espanyol</td>\n",
       "      <td>Activitat sense llengua</td>\n",
       "      <td>No hi ha informació</td>\n",
       "      <td>Espanyol</td>\n",
       "      <td>Bilingüe</td>\n",
       "      <td>3.0</td>\n",
       "      <td>0.0</td>\n",
       "    </tr>\n",
       "    <tr>\n",
       "      <th>1</th>\n",
       "      <td>Alaquàs</td>\n",
       "      <td>Espanyol</td>\n",
       "      <td>Activitat sense llengua</td>\n",
       "      <td>Valencià/català</td>\n",
       "      <td>Bilingüe</td>\n",
       "      <td>Valencià/català</td>\n",
       "      <td>2.0</td>\n",
       "      <td>0.0</td>\n",
       "    </tr>\n",
       "    <tr>\n",
       "      <th>2</th>\n",
       "      <td>Albal</td>\n",
       "      <td>Activitat sense llengua</td>\n",
       "      <td>Valencià/català</td>\n",
       "      <td>Espanyol</td>\n",
       "      <td>Valencià/català</td>\n",
       "      <td>Espanyol</td>\n",
       "      <td>1.0</td>\n",
       "      <td>2.0</td>\n",
       "    </tr>\n",
       "    <tr>\n",
       "      <th>3</th>\n",
       "      <td>Albatera</td>\n",
       "      <td>Espanyol</td>\n",
       "      <td>Activitat sense llengua</td>\n",
       "      <td>Activitat sense llengua</td>\n",
       "      <td>Espanyol</td>\n",
       "      <td>Espanyol</td>\n",
       "      <td>NaN</td>\n",
       "      <td>0.0</td>\n",
       "    </tr>\n",
       "    <tr>\n",
       "      <th>4</th>\n",
       "      <td>Alberic</td>\n",
       "      <td>Valencià/català</td>\n",
       "      <td>Activitat sense llengua</td>\n",
       "      <td>Espanyol</td>\n",
       "      <td>Valencià/català</td>\n",
       "      <td>Valencià/català</td>\n",
       "      <td>0.0</td>\n",
       "      <td>2.0</td>\n",
       "    </tr>\n",
       "    <tr>\n",
       "      <th>...</th>\n",
       "      <td>...</td>\n",
       "      <td>...</td>\n",
       "      <td>...</td>\n",
       "      <td>...</td>\n",
       "      <td>...</td>\n",
       "      <td>...</td>\n",
       "      <td>...</td>\n",
       "      <td>...</td>\n",
       "    </tr>\n",
       "    <tr>\n",
       "      <th>132</th>\n",
       "      <td>Vinaròs</td>\n",
       "      <td>Activitat sense llengua</td>\n",
       "      <td>Valencià/català</td>\n",
       "      <td>Espanyol</td>\n",
       "      <td>Valencià/català</td>\n",
       "      <td>Bilingüe</td>\n",
       "      <td>1.0</td>\n",
       "      <td>2.0</td>\n",
       "    </tr>\n",
       "    <tr>\n",
       "      <th>133</th>\n",
       "      <td>Xirivella</td>\n",
       "      <td>Activitat sense llengua</td>\n",
       "      <td>Espanyol</td>\n",
       "      <td>No hi ha informació</td>\n",
       "      <td>Bilingüe</td>\n",
       "      <td>Valencià/català</td>\n",
       "      <td>3.0</td>\n",
       "      <td>1.0</td>\n",
       "    </tr>\n",
       "    <tr>\n",
       "      <th>134</th>\n",
       "      <td>Xixona</td>\n",
       "      <td>Activitat sense llengua</td>\n",
       "      <td>Valencià/català</td>\n",
       "      <td>Espanyol</td>\n",
       "      <td>Valencià/català</td>\n",
       "      <td>Espanyol</td>\n",
       "      <td>1.0</td>\n",
       "      <td>2.0</td>\n",
       "    </tr>\n",
       "    <tr>\n",
       "      <th>135</th>\n",
       "      <td>Xàbia</td>\n",
       "      <td>Activitat sense llengua</td>\n",
       "      <td>Valencià/català</td>\n",
       "      <td>Espanyol</td>\n",
       "      <td>Bilingüe</td>\n",
       "      <td>Valencià/català</td>\n",
       "      <td>1.0</td>\n",
       "      <td>2.0</td>\n",
       "    </tr>\n",
       "    <tr>\n",
       "      <th>136</th>\n",
       "      <td>Xàtiva</td>\n",
       "      <td>Valencià/català</td>\n",
       "      <td>Activitat sense llengua</td>\n",
       "      <td>No hi ha informació</td>\n",
       "      <td>Valencià/català</td>\n",
       "      <td>Valencià/català</td>\n",
       "      <td>0.0</td>\n",
       "      <td>3.0</td>\n",
       "    </tr>\n",
       "  </tbody>\n",
       "</table>\n",
       "<p>137 rows × 8 columns</p>\n",
       "</div>"
      ],
      "text/plain": [
       "     localitat   llengua_activitat_top1   llengua_activitat_top2  \\\n",
       "0      Alacant                 Espanyol  Activitat sense llengua   \n",
       "1      Alaquàs                 Espanyol  Activitat sense llengua   \n",
       "2        Albal  Activitat sense llengua          Valencià/català   \n",
       "3     Albatera                 Espanyol  Activitat sense llengua   \n",
       "4      Alberic          Valencià/català  Activitat sense llengua   \n",
       "..         ...                      ...                      ...   \n",
       "132    Vinaròs  Activitat sense llengua          Valencià/català   \n",
       "133  Xirivella  Activitat sense llengua                 Espanyol   \n",
       "134     Xixona  Activitat sense llengua          Valencià/català   \n",
       "135      Xàbia  Activitat sense llengua          Valencià/català   \n",
       "136     Xàtiva          Valencià/català  Activitat sense llengua   \n",
       "\n",
       "      llengua_activitat_top3 llengua_publicitat_top1 llengua_publicitat_top2  \\\n",
       "0        No hi ha informació                Espanyol                Bilingüe   \n",
       "1            Valencià/català                Bilingüe         Valencià/català   \n",
       "2                   Espanyol         Valencià/català                Espanyol   \n",
       "3    Activitat sense llengua                Espanyol                Espanyol   \n",
       "4                   Espanyol         Valencià/català         Valencià/català   \n",
       "..                       ...                     ...                     ...   \n",
       "132                 Espanyol         Valencià/català                Bilingüe   \n",
       "133      No hi ha informació                Bilingüe         Valencià/català   \n",
       "134                 Espanyol         Valencià/català                Espanyol   \n",
       "135                 Espanyol                Bilingüe         Valencià/català   \n",
       "136      No hi ha informació         Valencià/català         Valencià/català   \n",
       "\n",
       "     position_val_in_llengua_publicitat  position_esp_in_llengua_publicitat  \n",
       "0                                   3.0                                 0.0  \n",
       "1                                   2.0                                 0.0  \n",
       "2                                   1.0                                 2.0  \n",
       "3                                   NaN                                 0.0  \n",
       "4                                   0.0                                 2.0  \n",
       "..                                  ...                                 ...  \n",
       "132                                 1.0                                 2.0  \n",
       "133                                 3.0                                 1.0  \n",
       "134                                 1.0                                 2.0  \n",
       "135                                 1.0                                 2.0  \n",
       "136                                 0.0                                 3.0  \n",
       "\n",
       "[137 rows x 8 columns]"
      ]
     },
     "execution_count": 310,
     "metadata": {},
     "output_type": "execute_result"
    }
   ],
   "source": [
    "activitats_summaries"
   ]
  },
  {
   "attachments": {},
   "cell_type": "markdown",
   "metadata": {},
   "source": [
    "Saving Datasets"
   ]
  },
  {
   "cell_type": "code",
   "execution_count": 311,
   "metadata": {},
   "outputs": [],
   "source": [
    "activitats.to_csv(\"data/activitats.csv\")"
   ]
  },
  {
   "cell_type": "code",
   "execution_count": 314,
   "metadata": {},
   "outputs": [],
   "source": [
    "activitats_summaries.to_csv(\"data/activitats_summaries.csv\")"
   ]
  }
 ],
 "metadata": {
  "kernelspec": {
   "display_name": "venv",
   "language": "python",
   "name": "python3"
  },
  "language_info": {
   "codemirror_mode": {
    "name": "ipython",
    "version": 3
   },
   "file_extension": ".py",
   "mimetype": "text/x-python",
   "name": "python",
   "nbconvert_exporter": "python",
   "pygments_lexer": "ipython3",
   "version": "3.8.12"
  },
  "orig_nbformat": 4
 },
 "nbformat": 4,
 "nbformat_minor": 2
}
