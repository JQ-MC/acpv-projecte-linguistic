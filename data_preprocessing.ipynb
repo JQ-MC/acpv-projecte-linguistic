{
 "cells": [
  {
   "attachments": {},
   "cell_type": "markdown",
   "metadata": {},
   "source": [
    "## Preprocessament"
   ]
  },
  {
   "cell_type": "code",
   "execution_count": 40,
   "metadata": {},
   "outputs": [],
   "source": [
    "import pandas as pd\n",
    "import numpy as np"
   ]
  },
  {
   "attachments": {},
   "cell_type": "markdown",
   "metadata": {},
   "source": [
    "Lectura de dades"
   ]
  },
  {
   "cell_type": "code",
   "execution_count": 41,
   "metadata": {},
   "outputs": [],
   "source": [
    "activitats_v = pd.read_csv(\"data/raw/activitats_valencia.csv\")\n",
    "activitats_a = pd.read_csv(\"data/raw/activitats_alacant.csv\")\n",
    "activitats_c = pd.read_csv(\"data/raw/activitats_castello.csv\")\n",
    "ajuntaments_info = pd.read_csv(\"data/raw/ajuntaments_info_raw.csv\")"
   ]
  },
  {
   "cell_type": "code",
   "execution_count": 42,
   "metadata": {},
   "outputs": [
    {
     "data": {
      "text/plain": [
       "Index(['Marca de temps', 'Localitat', 'Data', 'Categoria',\n",
       "       'En cas d'altres, quina?', 'Nom de l'activitat ', 'Companyia, artista',\n",
       "       'Lloc', 'Llengua de l'activitat', 'Preu', 'Regidoria organitzadora',\n",
       "       'Llengua de la publicitat', 'Font',\n",
       "       'Persona que ha introduït les dades', 'Unnamed: 14', 'Unnamed: 15',\n",
       "       'Estructura dades', 'Observacions estructura dades'],\n",
       "      dtype='object')"
      ]
     },
     "execution_count": 42,
     "metadata": {},
     "output_type": "execute_result"
    }
   ],
   "source": [
    "activitats_v.columns"
   ]
  },
  {
   "cell_type": "code",
   "execution_count": 43,
   "metadata": {},
   "outputs": [
    {
     "data": {
      "text/plain": [
       "Index(['MUNICIPI', 'PROVÍNCIA', 'COMARCA', 'N HABITANTS',\n",
       "       'ÌNDEX ENVELLIMENT POBLACIÓ (2021)', 'POBLACIÓ TURÍSTICA',\n",
       "       'PARTIT GOVERNANT EN 2022-23', 'PARTIT GOVERNANT 2023-24',\n",
       "       'Subvenció normalització\\n de l'us del valencià \\nper part de la Generalitat (2022)',\n",
       "       'LLENGUA PREDOMINANT', 'Regidoria Cultura 2022',\n",
       "       'Regidoria Cultura 2023'],\n",
       "      dtype='object')"
      ]
     },
     "execution_count": 43,
     "metadata": {},
     "output_type": "execute_result"
    }
   ],
   "source": [
    "ajuntaments_info.columns"
   ]
  },
  {
   "attachments": {},
   "cell_type": "markdown",
   "metadata": {},
   "source": [
    "* Seleccio de variables i canvi de nom"
   ]
  },
  {
   "cell_type": "code",
   "execution_count": 44,
   "metadata": {},
   "outputs": [],
   "source": [
    "columns = [\"Marca temporal\", \"Localitat\", \"Data\", \"Categoria\", \"En cas d'altres, quina?\", \"Nom de l'activitat \", \"Companyia, artista\", \"Lloc\", \"Llengua de l'activitat\", \"Preu\", \"Regidoria organitzadora\", \"Llengua de la publicitat\", \"Font\",  \"Persona que ha introduït les dades\"]\n",
    "columns_v = [\"Marca de temps\", \"Localitat\", \"Data\", \"Categoria\", \"En cas d'altres, quina?\", \"Nom de l'activitat \", \"Companyia, artista\", \"Lloc\", \"Llengua de l'activitat\", \"Preu\", \"Regidoria organitzadora\", \"Llengua de la publicitat\", \"Font\",  \"Persona que ha introduït les dades\"]\n",
    "column_rename = [\"marca_temps\", \"localitat\", \"data\", \"categoria\", \"categoria_alternativa\", \"nom_activitat\", \"companyia\", \"lloc\", \"llengua_activitat\", \"preu\", \"regidoria\", \"llengua_publicitat\", \"font\", \"persona_dades\"]\n",
    "columns_info_rename = [\"ajuntament\", \"provincia\", \"comarca\", \"n_habitants\", \"index_envelliment_2021\", \"pob_turistica\", \"govern_22_23\", \"govern_23_24\",  \"subv_us_valencia_2022\", \"predomini_ling\", \"regidoria_cultura\", \"regidoria_cultura_2023\"]"
   ]
  },
  {
   "cell_type": "code",
   "execution_count": 45,
   "metadata": {},
   "outputs": [],
   "source": [
    "activitats_v = activitats_v[columns_v]\n",
    "activitats_v.columns = column_rename\n",
    "activitats_c = activitats_c[columns]\n",
    "activitats_c.columns = column_rename\n",
    "activitats_a = activitats_a[columns]\n",
    "activitats_a.columns = column_rename\n",
    "ajuntaments_info.columns = columns_info_rename"
   ]
  },
  {
   "cell_type": "code",
   "execution_count": 46,
   "metadata": {},
   "outputs": [
    {
     "data": {
      "text/html": [
       "<div>\n",
       "<style scoped>\n",
       "    .dataframe tbody tr th:only-of-type {\n",
       "        vertical-align: middle;\n",
       "    }\n",
       "\n",
       "    .dataframe tbody tr th {\n",
       "        vertical-align: top;\n",
       "    }\n",
       "\n",
       "    .dataframe thead th {\n",
       "        text-align: right;\n",
       "    }\n",
       "</style>\n",
       "<table border=\"1\" class=\"dataframe\">\n",
       "  <thead>\n",
       "    <tr style=\"text-align: right;\">\n",
       "      <th></th>\n",
       "      <th>marca_temps</th>\n",
       "      <th>localitat</th>\n",
       "      <th>data</th>\n",
       "      <th>categoria</th>\n",
       "      <th>categoria_alternativa</th>\n",
       "      <th>nom_activitat</th>\n",
       "      <th>companyia</th>\n",
       "      <th>lloc</th>\n",
       "      <th>llengua_activitat</th>\n",
       "      <th>preu</th>\n",
       "      <th>regidoria</th>\n",
       "      <th>llengua_publicitat</th>\n",
       "      <th>font</th>\n",
       "      <th>persona_dades</th>\n",
       "    </tr>\n",
       "  </thead>\n",
       "  <tbody>\n",
       "    <tr>\n",
       "      <th>0</th>\n",
       "      <td>06/02/2023 12:58:19</td>\n",
       "      <td>Albal</td>\n",
       "      <td>01/10/2022</td>\n",
       "      <td>Música</td>\n",
       "      <td>NaN</td>\n",
       "      <td>XIX campaña de conciertos de intercambios</td>\n",
       "      <td>Orquestra de pols i pua Abalsants i cor calixtí</td>\n",
       "      <td>Patronato</td>\n",
       "      <td>Activitat sense llengua</td>\n",
       "      <td>NaN</td>\n",
       "      <td>Cultura</td>\n",
       "      <td>Espanyol</td>\n",
       "      <td>https://www.facebook.com/lalcudiadecrespins/?l...</td>\n",
       "      <td>Blanca</td>\n",
       "    </tr>\n",
       "    <tr>\n",
       "      <th>1</th>\n",
       "      <td>07/02/2023 9:28:16</td>\n",
       "      <td>Alboraia</td>\n",
       "      <td>01/10/2022</td>\n",
       "      <td>Exposició</td>\n",
       "      <td>NaN</td>\n",
       "      <td>Botànica: Exposició de fotografia</td>\n",
       "      <td>Pablo Sanjuan</td>\n",
       "      <td>Casa Cultura José Peris Aragó</td>\n",
       "      <td>Activitat sense llengua</td>\n",
       "      <td>NaN</td>\n",
       "      <td>Cultura</td>\n",
       "      <td>Valencià/català</td>\n",
       "      <td>http://agendaalboraya.es/agenda-octubre-noviem...</td>\n",
       "      <td>Hermi</td>\n",
       "    </tr>\n",
       "    <tr>\n",
       "      <th>2</th>\n",
       "      <td>07/02/2023 9:24:37</td>\n",
       "      <td>Alboraia</td>\n",
       "      <td>01/10/2022</td>\n",
       "      <td>Exposició</td>\n",
       "      <td>NaN</td>\n",
       "      <td>Exposició de Retrats</td>\n",
       "      <td>Horacio Balastegui Ribera</td>\n",
       "      <td>Casa Cultura José Peris Aragó</td>\n",
       "      <td>Activitat sense llengua</td>\n",
       "      <td>NaN</td>\n",
       "      <td>Cultura</td>\n",
       "      <td>Valencià/català</td>\n",
       "      <td>http://agendaalboraya.es/agenda-octubre-noviem...</td>\n",
       "      <td>Hermi</td>\n",
       "    </tr>\n",
       "    <tr>\n",
       "      <th>3</th>\n",
       "      <td>07/02/2023 11:15:55</td>\n",
       "      <td>Algemesí</td>\n",
       "      <td>01/10/2022</td>\n",
       "      <td>Exposició</td>\n",
       "      <td>NaN</td>\n",
       "      <td>Gemma Alpuente: Orografies de color en una rea...</td>\n",
       "      <td>Gemma Alpuente (artista) i Àlex Villar (comiss...</td>\n",
       "      <td>Sala d'exposicions municipal (Casino)</td>\n",
       "      <td>Activitat sense llengua</td>\n",
       "      <td>NaN</td>\n",
       "      <td>Cultura</td>\n",
       "      <td>Valencià/català</td>\n",
       "      <td>https://www.instagram.com/ajuntamentalgemesi/?...</td>\n",
       "      <td>Blanca</td>\n",
       "    </tr>\n",
       "    <tr>\n",
       "      <th>4</th>\n",
       "      <td>08/02/2023 9:42:38</td>\n",
       "      <td>Almàssera</td>\n",
       "      <td>01/10/2022</td>\n",
       "      <td>Música</td>\n",
       "      <td>NaN</td>\n",
       "      <td>CONCERT CAMPANYA CONCERTS D’INTERCANVIS  FSMCV</td>\n",
       "      <td>Banda simfònica de la Unió musical de la Pobla...</td>\n",
       "      <td>Centre Cultural</td>\n",
       "      <td>Activitat sense llengua</td>\n",
       "      <td>NaN</td>\n",
       "      <td>Cultura</td>\n",
       "      <td>Bilingüe</td>\n",
       "      <td>https://www.facebook.com/ajuntamentalmassera/?...</td>\n",
       "      <td>Blanca</td>\n",
       "    </tr>\n",
       "    <tr>\n",
       "      <th>...</th>\n",
       "      <td>...</td>\n",
       "      <td>...</td>\n",
       "      <td>...</td>\n",
       "      <td>...</td>\n",
       "      <td>...</td>\n",
       "      <td>...</td>\n",
       "      <td>...</td>\n",
       "      <td>...</td>\n",
       "      <td>...</td>\n",
       "      <td>...</td>\n",
       "      <td>...</td>\n",
       "      <td>...</td>\n",
       "      <td>...</td>\n",
       "      <td>...</td>\n",
       "    </tr>\n",
       "    <tr>\n",
       "      <th>6501</th>\n",
       "      <td>03/05/2024 13:27:09</td>\n",
       "      <td>Alberic</td>\n",
       "      <td>10/03/2024</td>\n",
       "      <td>Exposició</td>\n",
       "      <td>NaN</td>\n",
       "      <td>Ermites de la Ribera</td>\n",
       "      <td>NaN</td>\n",
       "      <td>Antic Ajuntament</td>\n",
       "      <td>Activitat sense llengua</td>\n",
       "      <td>NaN</td>\n",
       "      <td>Cultura</td>\n",
       "      <td>Valencià/català</td>\n",
       "      <td>https://www.facebook.com/AyuntamientoDeAlberic...</td>\n",
       "      <td>Irene</td>\n",
       "    </tr>\n",
       "    <tr>\n",
       "      <th>6502</th>\n",
       "      <td>03/05/2024 13:27:53</td>\n",
       "      <td>Alberic</td>\n",
       "      <td>23/03/2024</td>\n",
       "      <td>Teatre</td>\n",
       "      <td>NaN</td>\n",
       "      <td>Charlie i la fàbrica de reciclatge</td>\n",
       "      <td>NaN</td>\n",
       "      <td>Glorieta</td>\n",
       "      <td>Valencià/català</td>\n",
       "      <td>NaN</td>\n",
       "      <td>Cultura</td>\n",
       "      <td>Valencià/català</td>\n",
       "      <td>https://www.facebook.com/AyuntamientoDeAlberic...</td>\n",
       "      <td>Irene</td>\n",
       "    </tr>\n",
       "    <tr>\n",
       "      <th>6503</th>\n",
       "      <td>03/05/2024 13:28:18</td>\n",
       "      <td>Alberic</td>\n",
       "      <td>23/03/2024</td>\n",
       "      <td>Música</td>\n",
       "      <td>NaN</td>\n",
       "      <td>Daray</td>\n",
       "      <td>NaN</td>\n",
       "      <td>La Muntanyeta</td>\n",
       "      <td>No hi ha informació</td>\n",
       "      <td>NaN</td>\n",
       "      <td>Cultura</td>\n",
       "      <td>Valencià/català</td>\n",
       "      <td>https://www.facebook.com/AyuntamientoDeAlberic...</td>\n",
       "      <td>Irene</td>\n",
       "    </tr>\n",
       "    <tr>\n",
       "      <th>6504</th>\n",
       "      <td>03/05/2024 13:28:53</td>\n",
       "      <td>Alberic</td>\n",
       "      <td>24/03/2024</td>\n",
       "      <td>Teatre</td>\n",
       "      <td>NaN</td>\n",
       "      <td>Teatre infantil de contes valencians festius i...</td>\n",
       "      <td>NaN</td>\n",
       "      <td>La Muntanyeta</td>\n",
       "      <td>Valencià/català</td>\n",
       "      <td>NaN</td>\n",
       "      <td>Cultura</td>\n",
       "      <td>Valencià/català</td>\n",
       "      <td>https://www.facebook.com/AyuntamientoDeAlberic...</td>\n",
       "      <td>Irene</td>\n",
       "    </tr>\n",
       "    <tr>\n",
       "      <th>6505</th>\n",
       "      <td>03/05/2024 13:29:26</td>\n",
       "      <td>Sant Antoni de Benaixeve</td>\n",
       "      <td>23/03/2024</td>\n",
       "      <td>Música</td>\n",
       "      <td>NaN</td>\n",
       "      <td>Cconcierto Sacro</td>\n",
       "      <td>Sociedad Coral</td>\n",
       "      <td>Orfeón Manuel Palau</td>\n",
       "      <td>Activitat sense llengua</td>\n",
       "      <td>NaN</td>\n",
       "      <td>En col·laboració o organitzat per una entitat ...</td>\n",
       "      <td>Espanyol</td>\n",
       "      <td>https://www.facebook.com/photo/?fbid=453103223...</td>\n",
       "      <td>Christian</td>\n",
       "    </tr>\n",
       "  </tbody>\n",
       "</table>\n",
       "<p>6506 rows × 14 columns</p>\n",
       "</div>"
      ],
      "text/plain": [
       "              marca_temps                 localitat        data  categoria  \\\n",
       "0     06/02/2023 12:58:19                     Albal  01/10/2022     Música   \n",
       "1      07/02/2023 9:28:16                  Alboraia  01/10/2022  Exposició   \n",
       "2      07/02/2023 9:24:37                  Alboraia  01/10/2022  Exposició   \n",
       "3     07/02/2023 11:15:55                  Algemesí  01/10/2022  Exposició   \n",
       "4      08/02/2023 9:42:38                 Almàssera  01/10/2022     Música   \n",
       "...                   ...                       ...         ...        ...   \n",
       "6501  03/05/2024 13:27:09                   Alberic  10/03/2024  Exposició   \n",
       "6502  03/05/2024 13:27:53                   Alberic  23/03/2024     Teatre   \n",
       "6503  03/05/2024 13:28:18                   Alberic  23/03/2024     Música   \n",
       "6504  03/05/2024 13:28:53                   Alberic  24/03/2024     Teatre   \n",
       "6505  03/05/2024 13:29:26  Sant Antoni de Benaixeve  23/03/2024     Música   \n",
       "\n",
       "     categoria_alternativa                                      nom_activitat  \\\n",
       "0                      NaN          XIX campaña de conciertos de intercambios   \n",
       "1                      NaN                  Botànica: Exposició de fotografia   \n",
       "2                      NaN                               Exposició de Retrats   \n",
       "3                      NaN  Gemma Alpuente: Orografies de color en una rea...   \n",
       "4                      NaN     CONCERT CAMPANYA CONCERTS D’INTERCANVIS  FSMCV   \n",
       "...                    ...                                                ...   \n",
       "6501                   NaN                               Ermites de la Ribera   \n",
       "6502                   NaN                 Charlie i la fàbrica de reciclatge   \n",
       "6503                   NaN                                              Daray   \n",
       "6504                   NaN  Teatre infantil de contes valencians festius i...   \n",
       "6505                   NaN                                   Cconcierto Sacro   \n",
       "\n",
       "                                              companyia  \\\n",
       "0       Orquestra de pols i pua Abalsants i cor calixtí   \n",
       "1                                         Pablo Sanjuan   \n",
       "2                             Horacio Balastegui Ribera   \n",
       "3     Gemma Alpuente (artista) i Àlex Villar (comiss...   \n",
       "4     Banda simfònica de la Unió musical de la Pobla...   \n",
       "...                                                 ...   \n",
       "6501                                                NaN   \n",
       "6502                                                NaN   \n",
       "6503                                                NaN   \n",
       "6504                                                NaN   \n",
       "6505                                    Sociedad Coral    \n",
       "\n",
       "                                       lloc        llengua_activitat preu  \\\n",
       "0                                 Patronato  Activitat sense llengua  NaN   \n",
       "1             Casa Cultura José Peris Aragó  Activitat sense llengua  NaN   \n",
       "2             Casa Cultura José Peris Aragó  Activitat sense llengua  NaN   \n",
       "3     Sala d'exposicions municipal (Casino)  Activitat sense llengua  NaN   \n",
       "4                           Centre Cultural  Activitat sense llengua  NaN   \n",
       "...                                     ...                      ...  ...   \n",
       "6501                       Antic Ajuntament  Activitat sense llengua  NaN   \n",
       "6502                               Glorieta          Valencià/català  NaN   \n",
       "6503                          La Muntanyeta      No hi ha informació  NaN   \n",
       "6504                          La Muntanyeta          Valencià/català  NaN   \n",
       "6505                   Orfeón Manuel Palau   Activitat sense llengua  NaN   \n",
       "\n",
       "                                              regidoria llengua_publicitat  \\\n",
       "0                                               Cultura           Espanyol   \n",
       "1                                               Cultura    Valencià/català   \n",
       "2                                               Cultura    Valencià/català   \n",
       "3                                               Cultura    Valencià/català   \n",
       "4                                               Cultura           Bilingüe   \n",
       "...                                                 ...                ...   \n",
       "6501                                            Cultura    Valencià/català   \n",
       "6502                                            Cultura    Valencià/català   \n",
       "6503                                            Cultura    Valencià/català   \n",
       "6504                                            Cultura    Valencià/català   \n",
       "6505  En col·laboració o organitzat per una entitat ...           Espanyol   \n",
       "\n",
       "                                                   font persona_dades  \n",
       "0     https://www.facebook.com/lalcudiadecrespins/?l...        Blanca  \n",
       "1     http://agendaalboraya.es/agenda-octubre-noviem...         Hermi  \n",
       "2     http://agendaalboraya.es/agenda-octubre-noviem...         Hermi  \n",
       "3     https://www.instagram.com/ajuntamentalgemesi/?...        Blanca  \n",
       "4     https://www.facebook.com/ajuntamentalmassera/?...        Blanca  \n",
       "...                                                 ...           ...  \n",
       "6501  https://www.facebook.com/AyuntamientoDeAlberic...         Irene  \n",
       "6502  https://www.facebook.com/AyuntamientoDeAlberic...         Irene  \n",
       "6503  https://www.facebook.com/AyuntamientoDeAlberic...         Irene  \n",
       "6504  https://www.facebook.com/AyuntamientoDeAlberic...         Irene  \n",
       "6505  https://www.facebook.com/photo/?fbid=453103223...     Christian  \n",
       "\n",
       "[6506 rows x 14 columns]"
      ]
     },
     "execution_count": 46,
     "metadata": {},
     "output_type": "execute_result"
    }
   ],
   "source": [
    "activitats_v"
   ]
  },
  {
   "attachments": {},
   "cell_type": "markdown",
   "metadata": {},
   "source": [
    "* Juntem els 3 datasets per a conformar el dataset activitats"
   ]
  },
  {
   "cell_type": "code",
   "execution_count": 47,
   "metadata": {},
   "outputs": [],
   "source": [
    "activitats = pd.concat([activitats_a, activitats_v, activitats_c], axis = 0)"
   ]
  },
  {
   "cell_type": "code",
   "execution_count": 48,
   "metadata": {},
   "outputs": [
    {
     "data": {
      "text/plain": [
       "(14269, 14)"
      ]
     },
     "execution_count": 48,
     "metadata": {},
     "output_type": "execute_result"
    }
   ],
   "source": [
    "activitats.shape"
   ]
  },
  {
   "attachments": {},
   "cell_type": "markdown",
   "metadata": {},
   "source": [
    "## Preprocessament de dades\n",
    "\n",
    "* Tranformacions en variables\n",
    "\n",
    "**ajuntaments_info**\n",
    "\n",
    "pob_turistica"
   ]
  },
  {
   "cell_type": "code",
   "execution_count": 49,
   "metadata": {},
   "outputs": [
    {
     "name": "stderr",
     "output_type": "stream",
     "text": [
      "C:\\Users\\quimm\\AppData\\Local\\Temp\\ipykernel_13356\\1527247745.py:2: FutureWarning: ChainedAssignmentError: behaviour will change in pandas 3.0!\n",
      "You are setting values through chained assignment. Currently this works in certain cases, but when using Copy-on-Write (which will become the default behaviour in pandas 3.0) this will never work to update the original DataFrame or Series, because the intermediate object on which we are setting values will behave as a copy.\n",
      "A typical example is when you are setting values in a column of a DataFrame, like:\n",
      "\n",
      "df[\"col\"][row_indexer] = value\n",
      "\n",
      "Use `df.loc[row_indexer, \"col\"] = values` instead, to perform the assignment in a single step and ensure this keeps updating the original `df`.\n",
      "\n",
      "See the caveats in the documentation: https://pandas.pydata.org/pandas-docs/stable/user_guide/indexing.html#returning-a-view-versus-a-copy\n",
      "\n",
      "  ajuntaments_info[\"pob_turistica\"].loc[ajuntaments_info[\"pob_turistica\"].isnull()] = \"No\"\n",
      "C:\\Users\\quimm\\AppData\\Local\\Temp\\ipykernel_13356\\1527247745.py:2: SettingWithCopyWarning: \n",
      "A value is trying to be set on a copy of a slice from a DataFrame\n",
      "\n",
      "See the caveats in the documentation: https://pandas.pydata.org/pandas-docs/stable/user_guide/indexing.html#returning-a-view-versus-a-copy\n",
      "  ajuntaments_info[\"pob_turistica\"].loc[ajuntaments_info[\"pob_turistica\"].isnull()] = \"No\"\n"
     ]
    }
   ],
   "source": [
    "# Adegim el valor \"No\" a aquelles poblacions que falten dades\n",
    "ajuntaments_info[\"pob_turistica\"].loc[ajuntaments_info[\"pob_turistica\"].isnull()] = \"No\""
   ]
  },
  {
   "attachments": {},
   "cell_type": "markdown",
   "metadata": {},
   "source": [
    "index_envelliment_2021"
   ]
  },
  {
   "cell_type": "code",
   "execution_count": 50,
   "metadata": {},
   "outputs": [],
   "source": [
    "ajuntaments_info[\"index_envelliment_2021\"] = pd.to_numeric(ajuntaments_info[\"index_envelliment_2021\"].str.replace(\",\", \".\") )"
   ]
  },
  {
   "attachments": {},
   "cell_type": "markdown",
   "metadata": {},
   "source": [
    "subv_us_valencia_2022"
   ]
  },
  {
   "cell_type": "code",
   "execution_count": 51,
   "metadata": {},
   "outputs": [],
   "source": [
    "ajuntaments_info[\"subv_us_valencia_2022\"] = pd.to_numeric(ajuntaments_info[\"subv_us_valencia_2022\"].str.replace(\".\", \"\").str.replace(\"€\", \"\").str.replace(\",\", \".\") )"
   ]
  },
  {
   "attachments": {},
   "cell_type": "markdown",
   "metadata": {},
   "source": [
    "**activitats**\n",
    "\n",
    "llengua_activitat"
   ]
  },
  {
   "cell_type": "code",
   "execution_count": 52,
   "metadata": {},
   "outputs": [],
   "source": [
    "def assign_value_more_than_2_languages(llengua_activitat):\n",
    "    \"\"\"\n",
    "    si la variable té dos llengues o més, el valor canvia a \"Dos o més llengües\"\n",
    "    \"\"\"\n",
    "    llengua_activitat_split = llengua_activitat.split(\", \")\n",
    "\n",
    "    if len(llengua_activitat_split) > 1:\n",
    "        if \"Activitat sense llengua\" not in llengua_activitat_split and \"No hi ha informació\" not in llengua_activitat_split:\n",
    "            return \"Dos o més llengües\"\n",
    "    \n",
    "    return llengua_activitat"
   ]
  },
  {
   "cell_type": "code",
   "execution_count": 53,
   "metadata": {},
   "outputs": [],
   "source": [
    "activitats = activitats.dropna()"
   ]
  },
  {
   "cell_type": "code",
   "execution_count": 54,
   "metadata": {},
   "outputs": [],
   "source": [
    "activitats[\"llengua_activitat\"] = activitats[\"llengua_activitat\"].apply(lambda x: assign_value_more_than_2_languages(x))"
   ]
  },
  {
   "attachments": {},
   "cell_type": "markdown",
   "metadata": {},
   "source": [
    "localitat"
   ]
  },
  {
   "cell_type": "code",
   "execution_count": 55,
   "metadata": {},
   "outputs": [],
   "source": [
    "activitats = activitats.loc[activitats[\"localitat\"] != \"Bilingüe\"]\n",
    "activitats = activitats.loc[activitats[\"localitat\"] != \"Monforte del Cid\"]"
   ]
  },
  {
   "attachments": {},
   "cell_type": "markdown",
   "metadata": {},
   "source": [
    "data"
   ]
  },
  {
   "cell_type": "code",
   "execution_count": 56,
   "metadata": {},
   "outputs": [],
   "source": [
    "activitats = activitats.loc[~pd.to_datetime(activitats.data, format= \"%d/%m/%Y\").dt.month.isin([4,5])]"
   ]
  },
  {
   "attachments": {},
   "cell_type": "markdown",
   "metadata": {},
   "source": [
    "Variables de text"
   ]
  },
  {
   "cell_type": "code",
   "execution_count": 57,
   "metadata": {},
   "outputs": [],
   "source": [
    "activitats.nom_activitat=activitats.nom_activitat.str.replace(\",\", \";\")\n",
    "activitats.nom_activitat = activitats.nom_activitat.str.replace(\"\\n\", \"\")\n",
    "activitats.nom_activitat = activitats.nom_activitat.str.replace(\"\\r\", \"\")\n",
    "activitats.companyia = activitats.companyia.str.replace(\",\", \";\")\n",
    "activitats.lloc = activitats.lloc.str.replace(\",\", \";\")\n",
    "activitats.preu = activitats.preu.str.replace(\",\", \";\")"
   ]
  },
  {
   "attachments": {},
   "cell_type": "markdown",
   "metadata": {},
   "source": [
    "* Creació de noves variables\n",
    "\n",
    "Preu_mitjà"
   ]
  },
  {
   "cell_type": "code",
   "execution_count": 58,
   "metadata": {},
   "outputs": [
    {
     "name": "stderr",
     "output_type": "stream",
     "text": [
      "C:\\Users\\quimm\\AppData\\Local\\Packages\\PythonSoftwareFoundation.Python.3.12_qbz5n2kfra8p0\\LocalCache\\local-packages\\Python312\\site-packages\\numpy\\core\\fromnumeric.py:3504: RuntimeWarning: Mean of empty slice.\n",
      "  return _methods._mean(a, axis=axis, dtype=dtype,\n",
      "C:\\Users\\quimm\\AppData\\Local\\Packages\\PythonSoftwareFoundation.Python.3.12_qbz5n2kfra8p0\\LocalCache\\local-packages\\Python312\\site-packages\\numpy\\core\\_methods.py:129: RuntimeWarning: invalid value encountered in scalar divide\n",
      "  ret = ret.dtype.type(ret / rcount)\n",
      "C:\\Users\\quimm\\AppData\\Local\\Temp\\ipykernel_13356\\3214746594.py:2: FutureWarning: ChainedAssignmentError: behaviour will change in pandas 3.0!\n",
      "You are setting values through chained assignment. Currently this works in certain cases, but when using Copy-on-Write (which will become the default behaviour in pandas 3.0) this will never work to update the original DataFrame or Series, because the intermediate object on which we are setting values will behave as a copy.\n",
      "A typical example is when you are setting values in a column of a DataFrame, like:\n",
      "\n",
      "df[\"col\"][row_indexer] = value\n",
      "\n",
      "Use `df.loc[row_indexer, \"col\"] = values` instead, to perform the assignment in a single step and ensure this keeps updating the original `df`.\n",
      "\n",
      "See the caveats in the documentation: https://pandas.pydata.org/pandas-docs/stable/user_guide/indexing.html#returning-a-view-versus-a-copy\n",
      "\n",
      "  activitats[\"preu_mitja\"].loc[activitats.preu.notnull()] = activitats.loc[activitats.preu.notnull()].preu_mitja.apply(lambda x: np.float64(np.mean([float(num.replace(\"'\", \".\").replace(\",\", \".\")) for num in x])))\n"
     ]
    }
   ],
   "source": [
    "activitats[\"preu_mitja\"] = activitats.preu.str.findall(r\"\\d+[,'.]?\\d*\")\n",
    "activitats[\"preu_mitja\"].loc[activitats.preu.notnull()] = activitats.loc[activitats.preu.notnull()].preu_mitja.apply(lambda x: np.float64(np.mean([float(num.replace(\"'\", \".\").replace(\",\", \".\")) for num in x])))"
   ]
  },
  {
   "cell_type": "code",
   "execution_count": 59,
   "metadata": {},
   "outputs": [],
   "source": [
    "#type(activitats[\"preu_mitja\"].loc[activitats.preu.notnull()][0])"
   ]
  },
  {
   "cell_type": "code",
   "execution_count": 60,
   "metadata": {},
   "outputs": [],
   "source": [
    "# Modifiquem el . per , per problemes de codificacio en els analistes\n",
    "#activitats[\"preu_mitja\"] = activitats[\"preu_mitja\"].apply(lambda num: str(num).replace(\".\", \",\"))"
   ]
  },
  {
   "attachments": {},
   "cell_type": "markdown",
   "metadata": {},
   "source": [
    "Categoria New"
   ]
  },
  {
   "cell_type": "code",
   "execution_count": 61,
   "metadata": {},
   "outputs": [],
   "source": [
    "def assign_category(category_alternative):\n",
    "\n",
    "    if type(category_alternative) != str:\n",
    "        category_new = np.nan\n",
    "    else:\n",
    "        category_alternative = category_alternative.lower()\n",
    "        if \"fall\" in category_alternative:\n",
    "            category_new = \"Falles\"\n",
    "        elif \"màg\" in category_alternative:\n",
    "            category_new = \"Màgia\"\n",
    "        elif \"visita\" in category_alternative:\n",
    "            category_new = \"Activitats sobre patrimoni\"\n",
    "        elif \"circ\" in category_alternative:\n",
    "            category_new = \"Circ\"\n",
    "        elif \"concu\" in category_alternative:\n",
    "            category_new = \"Concurs\"\n",
    "        elif \"premi\" in category_alternative:\n",
    "            category_new = \"Premis\"\n",
    "        elif \"taller\" in category_alternative:\n",
    "            category_new = \"Taller\"\n",
    "        elif \"espectac\" in category_alternative:\n",
    "            category_new = \"Espectacle\"\n",
    "        else:\n",
    "            category_new = np.nan\n",
    "\n",
    "    return category_new\n"
   ]
  },
  {
   "cell_type": "code",
   "execution_count": 62,
   "metadata": {},
   "outputs": [],
   "source": [
    "activitats[\"categoria_new\"] = activitats[\"categoria_alternativa\"].apply(assign_category)\n",
    "activitats[\"categoria_new\"] = np.where(activitats['categoria_new'].isnull(), activitats['categoria'], activitats['categoria_new'])"
   ]
  },
  {
   "attachments": {},
   "cell_type": "markdown",
   "metadata": {},
   "source": [
    "Mes"
   ]
  },
  {
   "cell_type": "code",
   "execution_count": 63,
   "metadata": {},
   "outputs": [],
   "source": [
    "activitats[\"Mes\"] = pd.to_datetime(activitats.data, format= \"%d/%m/%Y\").dt.month_name()"
   ]
  },
  {
   "cell_type": "markdown",
   "metadata": {},
   "source": [
    "Any de l'analisi"
   ]
  },
  {
   "cell_type": "code",
   "execution_count": 64,
   "metadata": {},
   "outputs": [],
   "source": [
    "def set_analisi_year(date_):\n",
    "    if date_ < pd.to_datetime(\"2023/06/30\"):\n",
    "        res = \"analisi_2023\"\n",
    "    elif date_ < pd.to_datetime(\"2025/06/30\"):\n",
    "        res = \"analisi_2024\"\n",
    "\n",
    "    return res"
   ]
  },
  {
   "cell_type": "code",
   "execution_count": 65,
   "metadata": {},
   "outputs": [
    {
     "data": {
      "text/plain": [
       "count                     60\n",
       "mean     2023-04-08 14:24:00\n",
       "min      2022-10-08 00:00:00\n",
       "25%      2022-12-09 00:00:00\n",
       "50%      2023-02-11 00:00:00\n",
       "75%      2023-10-14 12:00:00\n",
       "max      2024-02-02 00:00:00\n",
       "Name: data, dtype: object"
      ]
     },
     "execution_count": 65,
     "metadata": {},
     "output_type": "execute_result"
    }
   ],
   "source": [
    "pd.to_datetime(activitats.data, format=\"%d/%m/%Y\").describe()"
   ]
  },
  {
   "cell_type": "code",
   "execution_count": 66,
   "metadata": {},
   "outputs": [
    {
     "data": {
      "text/html": [
       "<div>\n",
       "<style scoped>\n",
       "    .dataframe tbody tr th:only-of-type {\n",
       "        vertical-align: middle;\n",
       "    }\n",
       "\n",
       "    .dataframe tbody tr th {\n",
       "        vertical-align: top;\n",
       "    }\n",
       "\n",
       "    .dataframe thead th {\n",
       "        text-align: right;\n",
       "    }\n",
       "</style>\n",
       "<table border=\"1\" class=\"dataframe\">\n",
       "  <thead>\n",
       "    <tr style=\"text-align: right;\">\n",
       "      <th></th>\n",
       "      <th>marca_temps</th>\n",
       "      <th>localitat</th>\n",
       "      <th>data</th>\n",
       "      <th>categoria</th>\n",
       "      <th>categoria_alternativa</th>\n",
       "      <th>nom_activitat</th>\n",
       "      <th>companyia</th>\n",
       "      <th>lloc</th>\n",
       "      <th>llengua_activitat</th>\n",
       "      <th>preu</th>\n",
       "      <th>regidoria</th>\n",
       "      <th>llengua_publicitat</th>\n",
       "      <th>font</th>\n",
       "      <th>persona_dades</th>\n",
       "      <th>preu_mitja</th>\n",
       "      <th>categoria_new</th>\n",
       "      <th>Mes</th>\n",
       "    </tr>\n",
       "  </thead>\n",
       "  <tbody>\n",
       "  </tbody>\n",
       "</table>\n",
       "</div>"
      ],
      "text/plain": [
       "Empty DataFrame\n",
       "Columns: [marca_temps, localitat, data, categoria, categoria_alternativa, nom_activitat, companyia, lloc, llengua_activitat, preu, regidoria, llengua_publicitat, font, persona_dades, preu_mitja, categoria_new, Mes]\n",
       "Index: []"
      ]
     },
     "execution_count": 66,
     "metadata": {},
     "output_type": "execute_result"
    }
   ],
   "source": [
    "activitats.loc[pd.to_datetime(activitats.data, format=\"%d/%m/%Y\") > pd.to_datetime(\"2024/06/30\")]"
   ]
  },
  {
   "cell_type": "code",
   "execution_count": 67,
   "metadata": {},
   "outputs": [],
   "source": [
    "activitats[\"any_estudi\"] = pd.to_datetime(activitats.data, format=\"%d/%m/%Y\").apply(lambda x: set_analisi_year(x))"
   ]
  },
  {
   "attachments": {},
   "cell_type": "markdown",
   "metadata": {},
   "source": [
    "* Nou conjunt de dades: activitats_summaries.csv\n",
    "\n",
    "llengua activitat"
   ]
  },
  {
   "cell_type": "code",
   "execution_count": 68,
   "metadata": {},
   "outputs": [
    {
     "name": "stderr",
     "output_type": "stream",
     "text": [
      "C:\\Users\\quimm\\AppData\\Local\\Temp\\ipykernel_13356\\334360915.py:6: DeprecationWarning: DataFrameGroupBy.apply operated on the grouping columns. This behavior is deprecated, and in a future version of pandas the grouping columns will be excluded from the operation. Either pass `include_groups=False` to exclude the groupings or explicitly select the grouping columns after groupby to silence this warning.\n",
      "  grup1 = grup1.groupby(\"localitat\").apply(lambda x : x.sort_values(by = 'count_llengua', ascending = False).head(3).reset_index(drop = True))\n"
     ]
    }
   ],
   "source": [
    "grup1 = activitats.groupby([\"localitat\",\"llengua_activitat\"])[\"llengua_activitat\"].count()\n",
    "grup1 = pd.DataFrame(grup1)\n",
    "grup1.columns = [\"count_llengua\"]\n",
    "grup1= grup1.reset_index()\n",
    "\n",
    "grup1 = grup1.groupby(\"localitat\").apply(lambda x : x.sort_values(by = 'count_llengua', ascending = False).head(3).reset_index(drop = True))\n",
    "grup1.columns = [\"localitat_col\", 'llengua_activitat', 'count_llengua']\n",
    "\n",
    "llengua_activitat_top1 = grup1.groupby(\"localitat\").apply(lambda x : x.head(1).reset_index(drop = True))[\"llengua_activitat\"]\n",
    "llengua_activitat_top2 = grup1.groupby(\"localitat\").apply(lambda x : x.head(2).tail(1).reset_index(drop = True))[\"llengua_activitat\"]\n",
    "llengua_activitat_top3 = grup1.groupby(\"localitat\").apply(lambda x : x.tail(1).reset_index(drop = True))[\"llengua_activitat\"]"
   ]
  },
  {
   "attachments": {},
   "cell_type": "markdown",
   "metadata": {},
   "source": [
    "llengua publicitat"
   ]
  },
  {
   "cell_type": "code",
   "execution_count": 69,
   "metadata": {},
   "outputs": [
    {
     "name": "stderr",
     "output_type": "stream",
     "text": [
      "C:\\Users\\quimm\\AppData\\Local\\Temp\\ipykernel_13356\\3631808114.py:6: DeprecationWarning: DataFrameGroupBy.apply operated on the grouping columns. This behavior is deprecated, and in a future version of pandas the grouping columns will be excluded from the operation. Either pass `include_groups=False` to exclude the groupings or explicitly select the grouping columns after groupby to silence this warning.\n",
      "  grup1 = grup1.groupby(\"localitat\").apply(lambda x : x.sort_values(by = 'count_llengua', ascending = False).head(2).reset_index(drop = True))\n"
     ]
    }
   ],
   "source": [
    "grup1 = activitats.groupby([\"localitat\",\"llengua_publicitat\"])[\"llengua_publicitat\"].count()\n",
    "grup1 = pd.DataFrame(grup1)\n",
    "grup1.columns = [\"count_llengua\"]\n",
    "grup1= grup1.reset_index()\n",
    "\n",
    "grup1 = grup1.groupby(\"localitat\").apply(lambda x : x.sort_values(by = 'count_llengua', ascending = False).head(2).reset_index(drop = True))\n",
    "grup1.columns = [\"localitat_col\", 'llengua_activitat', 'count_llengua']\n",
    "\n",
    "llengua_publicitat_top1 = grup1.groupby(\"localitat\").apply(lambda x : x.head(1).reset_index(drop = True))[\"llengua_activitat\"]\n",
    "llengua_publicitat_top2 = grup1.groupby(\"localitat\").apply(lambda x : x.tail(1).reset_index(drop = True))[\"llengua_activitat\"]"
   ]
  },
  {
   "attachments": {},
   "cell_type": "markdown",
   "metadata": {},
   "source": [
    "Language position"
   ]
  },
  {
   "cell_type": "code",
   "execution_count": 70,
   "metadata": {},
   "outputs": [
    {
     "name": "stderr",
     "output_type": "stream",
     "text": [
      "C:\\Users\\quimm\\AppData\\Local\\Temp\\ipykernel_13356\\2141191287.py:6: DeprecationWarning: DataFrameGroupBy.apply operated on the grouping columns. This behavior is deprecated, and in a future version of pandas the grouping columns will be excluded from the operation. Either pass `include_groups=False` to exclude the groupings or explicitly select the grouping columns after groupby to silence this warning.\n",
      "  grup1 = grup1.groupby(\"localitat\").apply(lambda x : x.sort_values(by = 'count_llengua', ascending = False).reset_index(drop = True))\n"
     ]
    }
   ],
   "source": [
    "grup1 = activitats.groupby([\"localitat\",\"llengua_activitat\"])[\"llengua_activitat\"].count()\n",
    "grup1 = pd.DataFrame(grup1)\n",
    "grup1.columns = [\"count_llengua\"]\n",
    "grup1= grup1.reset_index()\n",
    "\n",
    "grup1 = grup1.groupby(\"localitat\").apply(lambda x : x.sort_values(by = 'count_llengua', ascending = False).reset_index(drop = True))\n",
    "grup1.columns = [\"localitat_col\", 'llengua_activitat', 'count_llengua']"
   ]
  },
  {
   "cell_type": "code",
   "execution_count": 71,
   "metadata": {},
   "outputs": [],
   "source": [
    "pos_val = grup1.groupby(\"localitat\").apply(lambda x : x.index[x[\"llengua_activitat\"]==\"Valencià/català\"])\n",
    "pos_val = pd.DataFrame(pos_val)\n",
    "\n",
    "pos_cas = grup1.groupby(\"localitat\").apply(lambda x : x.index[x[\"llengua_activitat\"]==\"Espanyol\"])\n",
    "pos_cas = pd.DataFrame(pos_cas)"
   ]
  },
  {
   "cell_type": "code",
   "execution_count": 72,
   "metadata": {},
   "outputs": [],
   "source": [
    "def get_position(array):\n",
    "    \"get the position of the language in the most used ones. If not used, number 5 assigned\"\n",
    "    try:\n",
    "        return array[0][0][1]\n",
    "    except:\n",
    "        return 5"
   ]
  },
  {
   "cell_type": "code",
   "execution_count": 73,
   "metadata": {},
   "outputs": [],
   "source": [
    "positions_val = []\n",
    "\n",
    "for i in range(pos_val.shape[0]):\n",
    "    positions_val.append(get_position(pos_val.iloc[i]))"
   ]
  },
  {
   "cell_type": "code",
   "execution_count": 74,
   "metadata": {},
   "outputs": [],
   "source": [
    "positions_cas = []\n",
    "\n",
    "for i in range(pos_cas.shape[0]):\n",
    "    positions_cas.append(get_position(pos_cas.iloc[i]))"
   ]
  },
  {
   "attachments": {},
   "cell_type": "markdown",
   "metadata": {},
   "source": [
    "N activitats"
   ]
  },
  {
   "cell_type": "code",
   "execution_count": 75,
   "metadata": {},
   "outputs": [],
   "source": [
    "grup1 = activitats.groupby([\"localitat\"])[\"llengua_activitat\"].count()\n",
    "n_activivitats = grup1.values"
   ]
  },
  {
   "attachments": {},
   "cell_type": "markdown",
   "metadata": {},
   "source": [
    "* Creating datasets\n",
    "\n",
    "activitats_summaries"
   ]
  },
  {
   "cell_type": "code",
   "execution_count": 76,
   "metadata": {},
   "outputs": [],
   "source": [
    "activitats_summaries = pd.DataFrame(llengua_activitat_top1)\n",
    "activitats_summaries = activitats_summaries.reset_index()\n",
    "del activitats_summaries[\"level_1\"]\n",
    "activitats_summaries.columns = ['localitat', 'llengua_activitat_top1']"
   ]
  },
  {
   "cell_type": "code",
   "execution_count": 77,
   "metadata": {},
   "outputs": [],
   "source": [
    "activitats_summaries['llengua_activitat_top2'] = llengua_activitat_top2.values\n",
    "activitats_summaries['llengua_activitat_top3'] = llengua_activitat_top3.values\n",
    "activitats_summaries['llengua_publicitat_top1'] = llengua_publicitat_top1.values\n",
    "activitats_summaries['llengua_publicitat_top2'] = llengua_publicitat_top2.values\n",
    "activitats_summaries[\"position_val_in_llengua_activitat\"] = positions_val\n",
    "activitats_summaries[\"position_esp_in_llengua_activitat\"] = positions_cas\n",
    "activitats_summaries[\"n_activitats\"] = n_activivitats"
   ]
  },
  {
   "cell_type": "code",
   "execution_count": 78,
   "metadata": {},
   "outputs": [],
   "source": [
    "#ratio_activitats_nhabitants\n",
    "aux = activitats_summaries.merge(ajuntaments_info[[\"ajuntament\", \"n_habitants\"]], how ='left', left_on=\"localitat\", right_on = \"ajuntament\")\n",
    "activitats_summaries[\"ratio_activitats_nhabitants\"] = aux[\"n_activitats\"]/(aux[\"n_habitants\"]/1000)"
   ]
  },
  {
   "attachments": {},
   "cell_type": "markdown",
   "metadata": {},
   "source": [
    "Saving Datasets"
   ]
  },
  {
   "cell_type": "code",
   "execution_count": 79,
   "metadata": {},
   "outputs": [],
   "source": [
    "activitats.to_csv(\"data/activitats.csv\", index=False)"
   ]
  },
  {
   "cell_type": "code",
   "execution_count": 80,
   "metadata": {},
   "outputs": [],
   "source": [
    "activitats_summaries.to_csv(\"data/activitats_summaries.csv\", index=False)"
   ]
  },
  {
   "cell_type": "code",
   "execution_count": 81,
   "metadata": {},
   "outputs": [],
   "source": [
    "ajuntaments_info.to_csv(\"data/ajuntaments_info.csv\", index=False)"
   ]
  }
 ],
 "metadata": {
  "kernelspec": {
   "display_name": "venv",
   "language": "python",
   "name": "python3"
  },
  "language_info": {
   "codemirror_mode": {
    "name": "ipython",
    "version": 3
   },
   "file_extension": ".py",
   "mimetype": "text/x-python",
   "name": "python",
   "nbconvert_exporter": "python",
   "pygments_lexer": "ipython3",
   "version": "3.12.3"
  },
  "orig_nbformat": 4,
  "vscode": {
   "interpreter": {
    "hash": "cdd68e89fe3ff60b6cbcb506f0552d45d9c5caef7bd69e133c5dbfc2473a5985"
   }
  }
 },
 "nbformat": 4,
 "nbformat_minor": 2
}
