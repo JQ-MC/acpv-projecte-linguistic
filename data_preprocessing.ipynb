{
 "cells": [
  {
   "attachments": {},
   "cell_type": "markdown",
   "metadata": {},
   "source": [
    "## Preprocessament"
   ]
  },
  {
   "cell_type": "code",
   "execution_count": 180,
   "metadata": {},
   "outputs": [],
   "source": [
    "import pandas as pd\n",
    "import numpy as np"
   ]
  },
  {
   "attachments": {},
   "cell_type": "markdown",
   "metadata": {},
   "source": [
    "Lectura de dades"
   ]
  },
  {
   "cell_type": "code",
   "execution_count": 181,
   "metadata": {},
   "outputs": [],
   "source": [
    "activitats_v = pd.read_csv(\"data/raw/activitats_valencia.csv\")\n",
    "activitats_a = pd.read_csv(\"data/raw/activitats_alacant.csv\")\n",
    "activitats_c = pd.read_csv(\"data/raw/activitats_castello.csv\")\n",
    "ajuntaments_info = pd.read_csv(\"data/raw/ajuntaments_info_raw.csv\")"
   ]
  },
  {
   "cell_type": "code",
   "execution_count": 182,
   "metadata": {},
   "outputs": [
    {
     "data": {
      "text/plain": [
       "Index(['Marca de temps', 'Localitat', 'Data', 'Categoria',\n",
       "       'En cas d'altres, quina?', 'Nom de l'activitat ', 'Companyia, artista',\n",
       "       'Lloc', 'Llengua de l'activitat', 'Preu', 'Regidoria organitzadora',\n",
       "       'Llengua de la publicitat', 'Font',\n",
       "       'Persona que ha introduït les dades', 'Unnamed: 14', 'Unnamed: 15',\n",
       "       'Estructura dades', 'Observacions estructura dades'],\n",
       "      dtype='object')"
      ]
     },
     "execution_count": 182,
     "metadata": {},
     "output_type": "execute_result"
    }
   ],
   "source": [
    "activitats_v.columns"
   ]
  },
  {
   "cell_type": "code",
   "execution_count": 183,
   "metadata": {},
   "outputs": [
    {
     "data": {
      "text/plain": [
       "Index(['MUNICIPI', 'PROVÍNCIA', 'COMARCA', 'N HABITANTS',\n",
       "       'ÌNDEX ENVELLIMENT POBLACIÓ (2021)',\n",
       "       'Municipis que tenen reconeguda la condició de municipis turístics',\n",
       "       'PARTIT GOVERNANT EN 2022-23', 'PARTIT GOVERNANT 2023-24',\n",
       "       'PARTIT GOVERNANT 2024-25',\n",
       "       'Subvenció normalització\\n de l'us del valencià \\nper part de la Generalitat (2022)',\n",
       "       'LLENGUA PREDOMINANT', 'Regidoria Cultura 2022',\n",
       "       'Regidoria Cultura 2023', 'REGIDORIA CULTURA 2025',\n",
       "       'Consulta llengua 2025 Valencià', 'Consulta llengua 2025 Castellà'],\n",
       "      dtype='object')"
      ]
     },
     "execution_count": 183,
     "metadata": {},
     "output_type": "execute_result"
    }
   ],
   "source": [
    "ajuntaments_info.columns"
   ]
  },
  {
   "attachments": {},
   "cell_type": "markdown",
   "metadata": {},
   "source": [
    "* Seleccio de variables i canvi de nom"
   ]
  },
  {
   "cell_type": "markdown",
   "metadata": {},
   "source": [
    "Marca temporal,Localitat,Data,Categoria,\"En cas d'altres, quina?\",Nom de l'activitat ,\"Companyia, artista\",Lloc,Llengua de l'activitat,Preu,Regidoria organitzadora,Llengua de la publicitat,Font,Persona que ha introduït les dades\n",
    "\n",
    "val:\n",
    "Marca de temps,Localitat,Data,Categoria,\"En cas d'altres, quina?\",\"Nom de l'activitat \",\"Companyia, artista\",Lloc,Llengua de l'activitat,Preu,Regidoria organitzadora,Llengua de la publicitat,Font,Persona que ha introduït les dades,,,Estructura dades,Observacions estructura dades\n"
   ]
  },
  {
   "cell_type": "code",
   "execution_count": 184,
   "metadata": {},
   "outputs": [],
   "source": [
    "columns = [\"Marca temporal\", \"Localitat\", \"Data\", \"Categoria\", \"En cas d'altres, quina?\", \"Nom de l'activitat \", \"Companyia, artista\", \"Lloc\", \"Llengua de l'activitat\", \"Preu\", \"Regidoria organitzadora\", \"Llengua de la publicitat\", \"Font\",  \"Persona que ha introduït les dades\"]\n",
    "columns_v = [\"Marca de temps\", \"Localitat\", \"Data\", \"Categoria\", \"En cas d'altres, quina?\", \"Nom de l'activitat \", \"Companyia, artista\", \"Lloc\", \"Llengua de l'activitat\", \"Preu\", \"Regidoria organitzadora\", \"Llengua de la publicitat\", \"Font\",  \"Persona que ha introduït les dades\"]\n",
    "column_rename = [\"marca_temps\", \"localitat\", \"data\", \"categoria\", \"categoria_alternativa\", \"nom_activitat\", \"companyia\", \"lloc\", \"llengua_activitat\", \"preu\", \"regidoria\", \"llengua_publicitat\", \"font\", \"persona_dades\"]\n",
    "columns_info_rename = [\"ajuntament\", \"provincia\", \"comarca\", \"n_habitants\", \"index_envelliment_2021\", \"pob_turistica\", \"govern_22_23\", \"govern_23_24\", \"govern_24_25\",  \"subv_us_valencia_2022\", \"predomini_ling\", \"regidoria_cultura\", \"regidoria_cultura_2023\", \"regidoria_cultura_2025\", \"consulta_llengua_2025_valencia\",  \"consulta_llengua_2025_castella\"]"
   ]
  },
  {
   "cell_type": "code",
   "execution_count": 185,
   "metadata": {},
   "outputs": [
    {
     "data": {
      "text/html": [
       "<div>\n",
       "<style scoped>\n",
       "    .dataframe tbody tr th:only-of-type {\n",
       "        vertical-align: middle;\n",
       "    }\n",
       "\n",
       "    .dataframe tbody tr th {\n",
       "        vertical-align: top;\n",
       "    }\n",
       "\n",
       "    .dataframe thead th {\n",
       "        text-align: right;\n",
       "    }\n",
       "</style>\n",
       "<table border=\"1\" class=\"dataframe\">\n",
       "  <thead>\n",
       "    <tr style=\"text-align: right;\">\n",
       "      <th></th>\n",
       "      <th>Marca de temps</th>\n",
       "      <th>Localitat</th>\n",
       "      <th>Data</th>\n",
       "      <th>Categoria</th>\n",
       "      <th>En cas d'altres, quina?</th>\n",
       "      <th>Nom de l'activitat</th>\n",
       "      <th>Companyia, artista</th>\n",
       "      <th>Lloc</th>\n",
       "      <th>Llengua de l'activitat</th>\n",
       "      <th>Preu</th>\n",
       "      <th>Regidoria organitzadora</th>\n",
       "      <th>Llengua de la publicitat</th>\n",
       "      <th>Font</th>\n",
       "      <th>Persona que ha introduït les dades</th>\n",
       "      <th>Unnamed: 14</th>\n",
       "      <th>Unnamed: 15</th>\n",
       "      <th>Estructura dades</th>\n",
       "      <th>Observacions estructura dades</th>\n",
       "    </tr>\n",
       "  </thead>\n",
       "  <tbody>\n",
       "    <tr>\n",
       "      <th>0</th>\n",
       "      <td>06/02/2022 12:08:37</td>\n",
       "      <td>Canals</td>\n",
       "      <td>07/10/2022</td>\n",
       "      <td>Música</td>\n",
       "      <td>NaN</td>\n",
       "      <td>XIX Campanya de concerts d'intercanvis 2022</td>\n",
       "      <td>Unió Musical Santa Cecília</td>\n",
       "      <td>Centre Cultural Papa Calixte III</td>\n",
       "      <td>Valencià/català</td>\n",
       "      <td>NaN</td>\n",
       "      <td>En col·laboració o organitzat per una entitat ...</td>\n",
       "      <td>Bilingüe</td>\n",
       "      <td>https://www.facebook.com/AjuntamentCanals?loca...</td>\n",
       "      <td>Joan</td>\n",
       "      <td>NaN</td>\n",
       "      <td>NaN</td>\n",
       "      <td>NaN</td>\n",
       "      <td>NaN</td>\n",
       "    </tr>\n",
       "    <tr>\n",
       "      <th>1</th>\n",
       "      <td>06/02/2022 12:10:51</td>\n",
       "      <td>Canals</td>\n",
       "      <td>30/10/2022</td>\n",
       "      <td>Exposició</td>\n",
       "      <td>NaN</td>\n",
       "      <td>EXPOSICIÓ CARTELLS DEL CLUB DE LECTURA</td>\n",
       "      <td>Josep Moltó</td>\n",
       "      <td>Centre Cultural Ca Don José.</td>\n",
       "      <td>Activitat sense llengua</td>\n",
       "      <td>NaN</td>\n",
       "      <td>Cultura</td>\n",
       "      <td>Valencià/català</td>\n",
       "      <td>https://www.facebook.com/AjuntamentCanals?loca...</td>\n",
       "      <td>Joan</td>\n",
       "      <td>NaN</td>\n",
       "      <td>NaN</td>\n",
       "      <td>NaN</td>\n",
       "      <td>NaN</td>\n",
       "    </tr>\n",
       "    <tr>\n",
       "      <th>2</th>\n",
       "      <td>06/02/2022 12:14:43</td>\n",
       "      <td>Canals</td>\n",
       "      <td>08/10/2022</td>\n",
       "      <td>Música</td>\n",
       "      <td>NaN</td>\n",
       "      <td>XIX Campanya de concerts d'intercanvis 2022</td>\n",
       "      <td>Cor Calixtí de Canals amb l'orquestra de Pols ...</td>\n",
       "      <td>Centre Cultural Papa Calixte III</td>\n",
       "      <td>Espanyol</td>\n",
       "      <td>NaN</td>\n",
       "      <td>En col·laboració o organitzat per una entitat ...</td>\n",
       "      <td>Bilingüe</td>\n",
       "      <td>https://www.facebook.com/AjuntamentCanals?loca...</td>\n",
       "      <td>Joan</td>\n",
       "      <td>NaN</td>\n",
       "      <td>NaN</td>\n",
       "      <td>NaN</td>\n",
       "      <td>NaN</td>\n",
       "    </tr>\n",
       "    <tr>\n",
       "      <th>3</th>\n",
       "      <td>06/02/2022 12:17:18</td>\n",
       "      <td>Canals</td>\n",
       "      <td>09/10/2022</td>\n",
       "      <td>Música</td>\n",
       "      <td>NaN</td>\n",
       "      <td>SISENA EDICIÓ DEL CORRELLENGUA</td>\n",
       "      <td>NaN</td>\n",
       "      <td>parc Jaume I</td>\n",
       "      <td>Valencià/català</td>\n",
       "      <td>NaN</td>\n",
       "      <td>Cultura</td>\n",
       "      <td>Valencià/català</td>\n",
       "      <td>https://www.facebook.com/AjuntamentCanals?loca...</td>\n",
       "      <td>Joan</td>\n",
       "      <td>NaN</td>\n",
       "      <td>NaN</td>\n",
       "      <td>NaN</td>\n",
       "      <td>NaN</td>\n",
       "    </tr>\n",
       "    <tr>\n",
       "      <th>4</th>\n",
       "      <td>06/02/2022 12:21:57</td>\n",
       "      <td>Canals</td>\n",
       "      <td>11/10/2022</td>\n",
       "      <td>Taller de teatre</td>\n",
       "      <td>NaN</td>\n",
       "      <td>Teatre i Prevenció de Drogues</td>\n",
       "      <td>NaN</td>\n",
       "      <td>NaN</td>\n",
       "      <td>No hi ha informació</td>\n",
       "      <td>NaN</td>\n",
       "      <td>Joventut</td>\n",
       "      <td>Valencià/català</td>\n",
       "      <td>https://www.facebook.com/AjuntamentCanals?loca...</td>\n",
       "      <td>Joan</td>\n",
       "      <td>NaN</td>\n",
       "      <td>NaN</td>\n",
       "      <td>NaN</td>\n",
       "      <td>NaN</td>\n",
       "    </tr>\n",
       "    <tr>\n",
       "      <th>...</th>\n",
       "      <td>...</td>\n",
       "      <td>...</td>\n",
       "      <td>...</td>\n",
       "      <td>...</td>\n",
       "      <td>...</td>\n",
       "      <td>...</td>\n",
       "      <td>...</td>\n",
       "      <td>...</td>\n",
       "      <td>...</td>\n",
       "      <td>...</td>\n",
       "      <td>...</td>\n",
       "      <td>...</td>\n",
       "      <td>...</td>\n",
       "      <td>...</td>\n",
       "      <td>...</td>\n",
       "      <td>...</td>\n",
       "      <td>...</td>\n",
       "      <td>...</td>\n",
       "    </tr>\n",
       "    <tr>\n",
       "      <th>9863</th>\n",
       "      <td>31/03/2025 10:21:47</td>\n",
       "      <td>València</td>\n",
       "      <td>09/03/2025</td>\n",
       "      <td>Altres</td>\n",
       "      <td>Taller artístic</td>\n",
       "      <td>Ecofeminisme</td>\n",
       "      <td>Meu Turó</td>\n",
       "      <td>CC La Reina</td>\n",
       "      <td>Valencià/català</td>\n",
       "      <td>NaN</td>\n",
       "      <td>Cultura</td>\n",
       "      <td>Bilingüe</td>\n",
       "      <td>https://www.instagram.com/culturalvalencia/</td>\n",
       "      <td>Gabriel</td>\n",
       "      <td>NaN</td>\n",
       "      <td>NaN</td>\n",
       "      <td>NaN</td>\n",
       "      <td>NaN</td>\n",
       "    </tr>\n",
       "    <tr>\n",
       "      <th>9864</th>\n",
       "      <td>31/03/2025 10:22:13</td>\n",
       "      <td>València</td>\n",
       "      <td>07/03/2025</td>\n",
       "      <td>Exposició</td>\n",
       "      <td>NaN</td>\n",
       "      <td>La Dula: exposició col·lectiva elaborada per l...</td>\n",
       "      <td>NaN</td>\n",
       "      <td>NaN</td>\n",
       "      <td>Valencià/català</td>\n",
       "      <td>NaN</td>\n",
       "      <td>Cultura</td>\n",
       "      <td>Bilingüe</td>\n",
       "      <td>https://www.instagram.com/culturalvalencia/</td>\n",
       "      <td>Osel</td>\n",
       "      <td>NaN</td>\n",
       "      <td>NaN</td>\n",
       "      <td>NaN</td>\n",
       "      <td>NaN</td>\n",
       "    </tr>\n",
       "    <tr>\n",
       "      <th>9865</th>\n",
       "      <td>31/03/2025 10:22:53</td>\n",
       "      <td>València</td>\n",
       "      <td>09/03/2025</td>\n",
       "      <td>Dansa</td>\n",
       "      <td>NaN</td>\n",
       "      <td>Cuerpos Imposibles</td>\n",
       "      <td>Isabel Is My Name</td>\n",
       "      <td>CC La Reina</td>\n",
       "      <td>Activitat sense llengua</td>\n",
       "      <td>NaN</td>\n",
       "      <td>Cultura</td>\n",
       "      <td>Bilingüe</td>\n",
       "      <td>https://www.instagram.com/culturalvalencia/</td>\n",
       "      <td>Gabriel</td>\n",
       "      <td>NaN</td>\n",
       "      <td>NaN</td>\n",
       "      <td>NaN</td>\n",
       "      <td>NaN</td>\n",
       "    </tr>\n",
       "    <tr>\n",
       "      <th>9866</th>\n",
       "      <td>31/03/2025 10:25:04</td>\n",
       "      <td>València</td>\n",
       "      <td>05/03/2025</td>\n",
       "      <td>Exposició</td>\n",
       "      <td>NaN</td>\n",
       "      <td>Si pudiera elegir mi paisaje</td>\n",
       "      <td>NaN</td>\n",
       "      <td>CC del Carme</td>\n",
       "      <td>Activitat sense llengua</td>\n",
       "      <td>NaN</td>\n",
       "      <td>Cultura</td>\n",
       "      <td>Valencià/català</td>\n",
       "      <td>https://www.instagram.com/p/DG00gc2CD2C/</td>\n",
       "      <td>Neus</td>\n",
       "      <td>NaN</td>\n",
       "      <td>NaN</td>\n",
       "      <td>NaN</td>\n",
       "      <td>NaN</td>\n",
       "    </tr>\n",
       "    <tr>\n",
       "      <th>9867</th>\n",
       "      <td>31/03/2025 10:26:17</td>\n",
       "      <td>València</td>\n",
       "      <td>08/03/2025</td>\n",
       "      <td>Música</td>\n",
       "      <td>NaN</td>\n",
       "      <td>Sona l'escorxador: parlant de dones</td>\n",
       "      <td>José Luis Albacete, Antonio J. Iglesias</td>\n",
       "      <td>CCEscorxador</td>\n",
       "      <td>Valencià/català</td>\n",
       "      <td>NaN</td>\n",
       "      <td>Cultura</td>\n",
       "      <td>Bilingüe</td>\n",
       "      <td>https://www.instagram.com/culturalvalencia/</td>\n",
       "      <td>Osel</td>\n",
       "      <td>NaN</td>\n",
       "      <td>NaN</td>\n",
       "      <td>NaN</td>\n",
       "      <td>NaN</td>\n",
       "    </tr>\n",
       "  </tbody>\n",
       "</table>\n",
       "<p>9868 rows × 18 columns</p>\n",
       "</div>"
      ],
      "text/plain": [
       "           Marca de temps Localitat        Data         Categoria  \\\n",
       "0     06/02/2022 12:08:37    Canals  07/10/2022            Música   \n",
       "1     06/02/2022 12:10:51    Canals  30/10/2022         Exposició   \n",
       "2     06/02/2022 12:14:43    Canals  08/10/2022            Música   \n",
       "3     06/02/2022 12:17:18    Canals  09/10/2022            Música   \n",
       "4     06/02/2022 12:21:57    Canals  11/10/2022  Taller de teatre   \n",
       "...                   ...       ...         ...               ...   \n",
       "9863  31/03/2025 10:21:47  València  09/03/2025            Altres   \n",
       "9864  31/03/2025 10:22:13  València  07/03/2025         Exposició   \n",
       "9865  31/03/2025 10:22:53  València  09/03/2025             Dansa   \n",
       "9866  31/03/2025 10:25:04  València  05/03/2025         Exposició   \n",
       "9867  31/03/2025 10:26:17  València  08/03/2025            Música   \n",
       "\n",
       "     En cas d'altres, quina?  \\\n",
       "0                        NaN   \n",
       "1                        NaN   \n",
       "2                        NaN   \n",
       "3                        NaN   \n",
       "4                        NaN   \n",
       "...                      ...   \n",
       "9863         Taller artístic   \n",
       "9864                     NaN   \n",
       "9865                     NaN   \n",
       "9866                     NaN   \n",
       "9867                     NaN   \n",
       "\n",
       "                                    Nom de l'activitat   \\\n",
       "0           XIX Campanya de concerts d'intercanvis 2022   \n",
       "1                EXPOSICIÓ CARTELLS DEL CLUB DE LECTURA   \n",
       "2           XIX Campanya de concerts d'intercanvis 2022   \n",
       "3                        SISENA EDICIÓ DEL CORRELLENGUA   \n",
       "4                         Teatre i Prevenció de Drogues   \n",
       "...                                                 ...   \n",
       "9863                                       Ecofeminisme   \n",
       "9864  La Dula: exposició col·lectiva elaborada per l...   \n",
       "9865                                 Cuerpos Imposibles   \n",
       "9866                       Si pudiera elegir mi paisaje   \n",
       "9867                Sona l'escorxador: parlant de dones   \n",
       "\n",
       "                                     Companyia, artista  \\\n",
       "0                            Unió Musical Santa Cecília   \n",
       "1                                           Josep Moltó   \n",
       "2     Cor Calixtí de Canals amb l'orquestra de Pols ...   \n",
       "3                                                   NaN   \n",
       "4                                                   NaN   \n",
       "...                                                 ...   \n",
       "9863                                           Meu Turó   \n",
       "9864                                                NaN   \n",
       "9865                                  Isabel Is My Name   \n",
       "9866                                                NaN   \n",
       "9867            José Luis Albacete, Antonio J. Iglesias   \n",
       "\n",
       "                                  Lloc   Llengua de l'activitat Preu  \\\n",
       "0     Centre Cultural Papa Calixte III          Valencià/català  NaN   \n",
       "1         Centre Cultural Ca Don José.  Activitat sense llengua  NaN   \n",
       "2     Centre Cultural Papa Calixte III                 Espanyol  NaN   \n",
       "3                         parc Jaume I          Valencià/català  NaN   \n",
       "4                                  NaN      No hi ha informació  NaN   \n",
       "...                                ...                      ...  ...   \n",
       "9863                       CC La Reina          Valencià/català  NaN   \n",
       "9864                               NaN          Valencià/català  NaN   \n",
       "9865                       CC La Reina  Activitat sense llengua  NaN   \n",
       "9866                      CC del Carme  Activitat sense llengua  NaN   \n",
       "9867                      CCEscorxador          Valencià/català  NaN   \n",
       "\n",
       "                                Regidoria organitzadora  \\\n",
       "0     En col·laboració o organitzat per una entitat ...   \n",
       "1                                               Cultura   \n",
       "2     En col·laboració o organitzat per una entitat ...   \n",
       "3                                               Cultura   \n",
       "4                                              Joventut   \n",
       "...                                                 ...   \n",
       "9863                                            Cultura   \n",
       "9864                                            Cultura   \n",
       "9865                                            Cultura   \n",
       "9866                                            Cultura   \n",
       "9867                                            Cultura   \n",
       "\n",
       "     Llengua de la publicitat  \\\n",
       "0                    Bilingüe   \n",
       "1             Valencià/català   \n",
       "2                    Bilingüe   \n",
       "3             Valencià/català   \n",
       "4             Valencià/català   \n",
       "...                       ...   \n",
       "9863                 Bilingüe   \n",
       "9864                 Bilingüe   \n",
       "9865                 Bilingüe   \n",
       "9866          Valencià/català   \n",
       "9867                 Bilingüe   \n",
       "\n",
       "                                                   Font  \\\n",
       "0     https://www.facebook.com/AjuntamentCanals?loca...   \n",
       "1     https://www.facebook.com/AjuntamentCanals?loca...   \n",
       "2     https://www.facebook.com/AjuntamentCanals?loca...   \n",
       "3     https://www.facebook.com/AjuntamentCanals?loca...   \n",
       "4     https://www.facebook.com/AjuntamentCanals?loca...   \n",
       "...                                                 ...   \n",
       "9863        https://www.instagram.com/culturalvalencia/   \n",
       "9864        https://www.instagram.com/culturalvalencia/   \n",
       "9865        https://www.instagram.com/culturalvalencia/   \n",
       "9866           https://www.instagram.com/p/DG00gc2CD2C/   \n",
       "9867        https://www.instagram.com/culturalvalencia/   \n",
       "\n",
       "     Persona que ha introduït les dades  Unnamed: 14  Unnamed: 15  \\\n",
       "0                                  Joan          NaN          NaN   \n",
       "1                                  Joan          NaN          NaN   \n",
       "2                                  Joan          NaN          NaN   \n",
       "3                                  Joan          NaN          NaN   \n",
       "4                                  Joan          NaN          NaN   \n",
       "...                                 ...          ...          ...   \n",
       "9863                            Gabriel          NaN          NaN   \n",
       "9864                               Osel          NaN          NaN   \n",
       "9865                            Gabriel          NaN          NaN   \n",
       "9866                               Neus          NaN          NaN   \n",
       "9867                               Osel          NaN          NaN   \n",
       "\n",
       "     Estructura dades Observacions estructura dades  \n",
       "0                 NaN                           NaN  \n",
       "1                 NaN                           NaN  \n",
       "2                 NaN                           NaN  \n",
       "3                 NaN                           NaN  \n",
       "4                 NaN                           NaN  \n",
       "...               ...                           ...  \n",
       "9863              NaN                           NaN  \n",
       "9864              NaN                           NaN  \n",
       "9865              NaN                           NaN  \n",
       "9866              NaN                           NaN  \n",
       "9867              NaN                           NaN  \n",
       "\n",
       "[9868 rows x 18 columns]"
      ]
     },
     "execution_count": 185,
     "metadata": {},
     "output_type": "execute_result"
    }
   ],
   "source": [
    "activitats_v"
   ]
  },
  {
   "cell_type": "code",
   "execution_count": 186,
   "metadata": {},
   "outputs": [],
   "source": [
    "activitats_v = activitats_v[columns_v]\n",
    "activitats_v.columns = column_rename\n",
    "activitats_c = activitats_c[columns_v]\n",
    "activitats_c.columns = column_rename\n",
    "activitats_a = activitats_a[columns_v]\n",
    "activitats_a.columns = column_rename\n",
    "ajuntaments_info.columns = columns_info_rename"
   ]
  },
  {
   "attachments": {},
   "cell_type": "markdown",
   "metadata": {},
   "source": [
    "* Juntem els 3 datasets per a conformar el dataset activitats"
   ]
  },
  {
   "cell_type": "code",
   "execution_count": 187,
   "metadata": {},
   "outputs": [],
   "source": [
    "activitats = pd.concat([activitats_a, activitats_v, activitats_c], axis = 0)"
   ]
  },
  {
   "cell_type": "code",
   "execution_count": 188,
   "metadata": {},
   "outputs": [
    {
     "data": {
      "text/plain": [
       "(21293, 14)"
      ]
     },
     "execution_count": 188,
     "metadata": {},
     "output_type": "execute_result"
    }
   ],
   "source": [
    "activitats.shape"
   ]
  },
  {
   "attachments": {},
   "cell_type": "markdown",
   "metadata": {},
   "source": [
    "## Preprocessament de dades\n",
    "\n",
    "* Tranformacions en variables\n",
    "\n",
    "**ajuntaments_info**\n",
    "\n",
    "pob_turistica"
   ]
  },
  {
   "cell_type": "code",
   "execution_count": 189,
   "metadata": {},
   "outputs": [
    {
     "name": "stderr",
     "output_type": "stream",
     "text": [
      "C:\\Users\\quimm\\AppData\\Local\\Temp\\ipykernel_9412\\1527247745.py:2: FutureWarning: ChainedAssignmentError: behaviour will change in pandas 3.0!\n",
      "You are setting values through chained assignment. Currently this works in certain cases, but when using Copy-on-Write (which will become the default behaviour in pandas 3.0) this will never work to update the original DataFrame or Series, because the intermediate object on which we are setting values will behave as a copy.\n",
      "A typical example is when you are setting values in a column of a DataFrame, like:\n",
      "\n",
      "df[\"col\"][row_indexer] = value\n",
      "\n",
      "Use `df.loc[row_indexer, \"col\"] = values` instead, to perform the assignment in a single step and ensure this keeps updating the original `df`.\n",
      "\n",
      "See the caveats in the documentation: https://pandas.pydata.org/pandas-docs/stable/user_guide/indexing.html#returning-a-view-versus-a-copy\n",
      "\n",
      "  ajuntaments_info[\"pob_turistica\"].loc[ajuntaments_info[\"pob_turistica\"].isnull()] = \"No\"\n",
      "C:\\Users\\quimm\\AppData\\Local\\Temp\\ipykernel_9412\\1527247745.py:2: SettingWithCopyWarning: \n",
      "A value is trying to be set on a copy of a slice from a DataFrame\n",
      "\n",
      "See the caveats in the documentation: https://pandas.pydata.org/pandas-docs/stable/user_guide/indexing.html#returning-a-view-versus-a-copy\n",
      "  ajuntaments_info[\"pob_turistica\"].loc[ajuntaments_info[\"pob_turistica\"].isnull()] = \"No\"\n"
     ]
    }
   ],
   "source": [
    "# Adegim el valor \"No\" a aquelles poblacions que falten dades\n",
    "ajuntaments_info[\"pob_turistica\"].loc[ajuntaments_info[\"pob_turistica\"].isnull()] = \"No\""
   ]
  },
  {
   "attachments": {},
   "cell_type": "markdown",
   "metadata": {},
   "source": [
    "index_envelliment_2021"
   ]
  },
  {
   "cell_type": "code",
   "execution_count": 190,
   "metadata": {},
   "outputs": [],
   "source": [
    "ajuntaments_info[\"index_envelliment_2021\"] = pd.to_numeric(ajuntaments_info[\"index_envelliment_2021\"].str.replace(\",\", \".\") )"
   ]
  },
  {
   "attachments": {},
   "cell_type": "markdown",
   "metadata": {},
   "source": [
    "subv_us_valencia_2022"
   ]
  },
  {
   "cell_type": "code",
   "execution_count": 191,
   "metadata": {},
   "outputs": [],
   "source": [
    "ajuntaments_info[\"subv_us_valencia_2022\"] = pd.to_numeric(ajuntaments_info[\"subv_us_valencia_2022\"].str.replace(\".\", \"\").str.replace(\"€\", \"\").str.replace(\",\", \".\") )"
   ]
  },
  {
   "cell_type": "markdown",
   "metadata": {},
   "source": [
    "consulta_base\n"
   ]
  },
  {
   "cell_type": "code",
   "execution_count": 192,
   "metadata": {},
   "outputs": [],
   "source": [
    "ajuntaments_info[\"consulta_llengua_2025_valencia\"] = ajuntaments_info[\"consulta_llengua_2025_valencia\"].str.replace(\"%\", \"\")\n",
    "ajuntaments_info[\"consulta_llengua_2025_castella\"] = ajuntaments_info[\"consulta_llengua_2025_castella\"].str.replace(\"%\", \"\")"
   ]
  },
  {
   "attachments": {},
   "cell_type": "markdown",
   "metadata": {},
   "source": [
    "**activitats**\n",
    "\n",
    "llengua_activitat"
   ]
  },
  {
   "cell_type": "code",
   "execution_count": 193,
   "metadata": {},
   "outputs": [],
   "source": [
    "def assign_value_more_than_2_languages(llengua_activitat):\n",
    "    \"\"\"\n",
    "    si la variable té dos llengues o més, el valor canvia a \"Dos o més llengües\"\n",
    "    \"\"\"\n",
    "    llengua_activitat_split = llengua_activitat.split(\", \")\n",
    "\n",
    "    if len(llengua_activitat_split) > 1:\n",
    "        if \"Activitat sense llengua\" not in llengua_activitat_split and \"No hi ha informació\" not in llengua_activitat_split:\n",
    "            return \"Dos o més llengües\"\n",
    "    \n",
    "    return llengua_activitat"
   ]
  },
  {
   "cell_type": "code",
   "execution_count": 194,
   "metadata": {},
   "outputs": [],
   "source": [
    "activitats = activitats.loc[~ activitats[\"llengua_activitat\"].isna()]"
   ]
  },
  {
   "cell_type": "code",
   "execution_count": 195,
   "metadata": {},
   "outputs": [],
   "source": [
    "activitats[\"llengua_activitat\"] = activitats[\"llengua_activitat\"].apply(lambda x: assign_value_more_than_2_languages(x))"
   ]
  },
  {
   "attachments": {},
   "cell_type": "markdown",
   "metadata": {},
   "source": [
    "localitat"
   ]
  },
  {
   "cell_type": "code",
   "execution_count": 196,
   "metadata": {},
   "outputs": [],
   "source": [
    "activitats = activitats.loc[activitats[\"localitat\"] != \"Bilingüe\"]\n",
    "activitats = activitats.loc[activitats[\"localitat\"] != \"Monforte del Cid\"]"
   ]
  },
  {
   "attachments": {},
   "cell_type": "markdown",
   "metadata": {},
   "source": [
    "data"
   ]
  },
  {
   "cell_type": "code",
   "execution_count": 197,
   "metadata": {},
   "outputs": [],
   "source": [
    "def is_date_valid(date):\n",
    "    try:\n",
    "        pd.to_datetime(date, format= \"%d/%m/%Y\")\n",
    "        return True\n",
    "    except:\n",
    "        return False"
   ]
  },
  {
   "cell_type": "code",
   "execution_count": 198,
   "metadata": {},
   "outputs": [],
   "source": [
    "activitats = activitats.loc[activitats.data.apply(is_date_valid)]"
   ]
  },
  {
   "cell_type": "code",
   "execution_count": 199,
   "metadata": {},
   "outputs": [],
   "source": [
    "# activitats = activitats.loc[~pd.to_datetime(activitats.data, format= \"%d/%m/%Y\").dt.month.isin([4,5])]"
   ]
  },
  {
   "attachments": {},
   "cell_type": "markdown",
   "metadata": {},
   "source": [
    "Variables de text"
   ]
  },
  {
   "cell_type": "code",
   "execution_count": 200,
   "metadata": {},
   "outputs": [],
   "source": [
    "activitats.nom_activitat=activitats.nom_activitat.str.replace(\",\", \";\")\n",
    "activitats.nom_activitat = activitats.nom_activitat.str.replace(\"\\n\", \"\")\n",
    "activitats.nom_activitat = activitats.nom_activitat.str.replace(\"\\r\", \"\")\n",
    "activitats.companyia = activitats.companyia.str.replace(\",\", \";\")\n",
    "activitats.lloc = activitats.lloc.str.replace(\",\", \";\")\n",
    "activitats.preu = activitats.preu.str.replace(\",\", \";\")"
   ]
  },
  {
   "attachments": {},
   "cell_type": "markdown",
   "metadata": {},
   "source": [
    "* Creació de noves variables\n",
    "\n",
    "Preu_mitjà"
   ]
  },
  {
   "cell_type": "code",
   "execution_count": 201,
   "metadata": {},
   "outputs": [
    {
     "name": "stderr",
     "output_type": "stream",
     "text": [
      "C:\\Users\\quimm\\AppData\\Local\\Packages\\PythonSoftwareFoundation.Python.3.12_qbz5n2kfra8p0\\LocalCache\\local-packages\\Python312\\site-packages\\numpy\\core\\fromnumeric.py:3504: RuntimeWarning: Mean of empty slice.\n",
      "  return _methods._mean(a, axis=axis, dtype=dtype,\n",
      "C:\\Users\\quimm\\AppData\\Local\\Packages\\PythonSoftwareFoundation.Python.3.12_qbz5n2kfra8p0\\LocalCache\\local-packages\\Python312\\site-packages\\numpy\\core\\_methods.py:129: RuntimeWarning: invalid value encountered in scalar divide\n",
      "  ret = ret.dtype.type(ret / rcount)\n",
      "C:\\Users\\quimm\\AppData\\Local\\Temp\\ipykernel_9412\\3214746594.py:2: FutureWarning: ChainedAssignmentError: behaviour will change in pandas 3.0!\n",
      "You are setting values through chained assignment. Currently this works in certain cases, but when using Copy-on-Write (which will become the default behaviour in pandas 3.0) this will never work to update the original DataFrame or Series, because the intermediate object on which we are setting values will behave as a copy.\n",
      "A typical example is when you are setting values in a column of a DataFrame, like:\n",
      "\n",
      "df[\"col\"][row_indexer] = value\n",
      "\n",
      "Use `df.loc[row_indexer, \"col\"] = values` instead, to perform the assignment in a single step and ensure this keeps updating the original `df`.\n",
      "\n",
      "See the caveats in the documentation: https://pandas.pydata.org/pandas-docs/stable/user_guide/indexing.html#returning-a-view-versus-a-copy\n",
      "\n",
      "  activitats[\"preu_mitja\"].loc[activitats.preu.notnull()] = activitats.loc[activitats.preu.notnull()].preu_mitja.apply(lambda x: np.float64(np.mean([float(num.replace(\"'\", \".\").replace(\",\", \".\")) for num in x])))\n"
     ]
    }
   ],
   "source": [
    "activitats[\"preu_mitja\"] = activitats.preu.str.findall(r\"\\d+[,'.]?\\d*\")\n",
    "activitats[\"preu_mitja\"].loc[activitats.preu.notnull()] = activitats.loc[activitats.preu.notnull()].preu_mitja.apply(lambda x: np.float64(np.mean([float(num.replace(\"'\", \".\").replace(\",\", \".\")) for num in x])))"
   ]
  },
  {
   "cell_type": "code",
   "execution_count": 202,
   "metadata": {},
   "outputs": [],
   "source": [
    "#type(activitats[\"preu_mitja\"].loc[activitats.preu.notnull()][0])"
   ]
  },
  {
   "cell_type": "code",
   "execution_count": 203,
   "metadata": {},
   "outputs": [],
   "source": [
    "# Modifiquem el . per , per problemes de codificacio en els analistes\n",
    "#activitats[\"preu_mitja\"] = activitats[\"preu_mitja\"].apply(lambda num: str(num).replace(\".\", \",\"))"
   ]
  },
  {
   "attachments": {},
   "cell_type": "markdown",
   "metadata": {},
   "source": [
    "Categoria New"
   ]
  },
  {
   "cell_type": "code",
   "execution_count": 204,
   "metadata": {},
   "outputs": [],
   "source": [
    "def assign_category(category_alternative):\n",
    "\n",
    "    if type(category_alternative) != str:\n",
    "        category_new = np.nan\n",
    "    else:\n",
    "        category_alternative = category_alternative.lower()\n",
    "        if \"fall\" in category_alternative:\n",
    "            category_new = \"Falles\"\n",
    "        elif \"màg\" in category_alternative:\n",
    "            category_new = \"Màgia\"\n",
    "        elif \"visita\" in category_alternative:\n",
    "            category_new = \"Activitats sobre patrimoni\"\n",
    "        elif \"circ\" in category_alternative:\n",
    "            category_new = \"Circ\"\n",
    "        elif \"concu\" in category_alternative:\n",
    "            category_new = \"Concurs\"\n",
    "        elif \"premi\" in category_alternative:\n",
    "            category_new = \"Premis\"\n",
    "        elif \"taller\" in category_alternative:\n",
    "            category_new = \"Taller\"\n",
    "        elif \"espectac\" in category_alternative:\n",
    "            category_new = \"Espectacle\"\n",
    "        else:\n",
    "            category_new = np.nan\n",
    "\n",
    "    return category_new\n"
   ]
  },
  {
   "cell_type": "code",
   "execution_count": 205,
   "metadata": {},
   "outputs": [],
   "source": [
    "activitats[\"categoria_new\"] = activitats[\"categoria_alternativa\"].apply(assign_category)\n",
    "activitats[\"categoria_new\"] = np.where(activitats['categoria_new'].isnull(), activitats['categoria'], activitats['categoria_new'])"
   ]
  },
  {
   "attachments": {},
   "cell_type": "markdown",
   "metadata": {},
   "source": [
    "Mes"
   ]
  },
  {
   "cell_type": "code",
   "execution_count": 206,
   "metadata": {},
   "outputs": [],
   "source": [
    "activitats[\"Mes\"] = pd.to_datetime(activitats.data, format= \"%d/%m/%Y\").dt.month_name()"
   ]
  },
  {
   "cell_type": "markdown",
   "metadata": {},
   "source": [
    "Any de l'analisi"
   ]
  },
  {
   "cell_type": "code",
   "execution_count": 207,
   "metadata": {},
   "outputs": [],
   "source": [
    "def set_analisi_year(date_):\n",
    "    if date_ < pd.to_datetime(\"2023/06/30\"):\n",
    "        res = \"analisi_2023\"\n",
    "    elif date_ < pd.to_datetime(\"2024/06/30\"):\n",
    "        res = \"analisi_2024\"\n",
    "    elif date_ < pd.to_datetime(\"2025/06/30\"):\n",
    "        res = \"analisi_2025\"\n",
    "    \n",
    "    else:\n",
    "        res = \"analisi_no_definit\"\n",
    "\n",
    "    return res"
   ]
  },
  {
   "cell_type": "code",
   "execution_count": 208,
   "metadata": {},
   "outputs": [
    {
     "data": {
      "text/plain": [
       "count                            21228\n",
       "mean     2023-12-15 11:46:34.120972544\n",
       "min                2022-10-01 00:00:00\n",
       "25%                2023-01-27 00:00:00\n",
       "50%                2023-12-14 00:00:00\n",
       "75%                2024-11-07 00:00:00\n",
       "max                2026-02-22 00:00:00\n",
       "Name: data, dtype: object"
      ]
     },
     "execution_count": 208,
     "metadata": {},
     "output_type": "execute_result"
    }
   ],
   "source": [
    "pd.to_datetime(activitats.data, format=\"%d/%m/%Y\").describe()"
   ]
  },
  {
   "cell_type": "code",
   "execution_count": 209,
   "metadata": {},
   "outputs": [
    {
     "data": {
      "text/html": [
       "<div>\n",
       "<style scoped>\n",
       "    .dataframe tbody tr th:only-of-type {\n",
       "        vertical-align: middle;\n",
       "    }\n",
       "\n",
       "    .dataframe tbody tr th {\n",
       "        vertical-align: top;\n",
       "    }\n",
       "\n",
       "    .dataframe thead th {\n",
       "        text-align: right;\n",
       "    }\n",
       "</style>\n",
       "<table border=\"1\" class=\"dataframe\">\n",
       "  <thead>\n",
       "    <tr style=\"text-align: right;\">\n",
       "      <th></th>\n",
       "      <th>marca_temps</th>\n",
       "      <th>localitat</th>\n",
       "      <th>data</th>\n",
       "      <th>categoria</th>\n",
       "      <th>categoria_alternativa</th>\n",
       "      <th>nom_activitat</th>\n",
       "      <th>companyia</th>\n",
       "      <th>lloc</th>\n",
       "      <th>llengua_activitat</th>\n",
       "      <th>preu</th>\n",
       "      <th>regidoria</th>\n",
       "      <th>llengua_publicitat</th>\n",
       "      <th>font</th>\n",
       "      <th>persona_dades</th>\n",
       "      <th>preu_mitja</th>\n",
       "      <th>categoria_new</th>\n",
       "      <th>Mes</th>\n",
       "    </tr>\n",
       "  </thead>\n",
       "  <tbody>\n",
       "    <tr>\n",
       "      <th>4612</th>\n",
       "      <td>11/04/2024 13:05:08</td>\n",
       "      <td>Torrevieja</td>\n",
       "      <td>7/12/2024</td>\n",
       "      <td>Música</td>\n",
       "      <td>NaN</td>\n",
       "      <td>Concierto Camela</td>\n",
       "      <td>Camela</td>\n",
       "      <td>Palacio de Deportes \"Tavi y Carmona\"</td>\n",
       "      <td>Espanyol</td>\n",
       "      <td>NaN</td>\n",
       "      <td>Cultura</td>\n",
       "      <td>Espanyol</td>\n",
       "      <td>https://www.facebook.com/photo/?fbid=757277143...</td>\n",
       "      <td>Christian</td>\n",
       "      <td>NaN</td>\n",
       "      <td>Música</td>\n",
       "      <td>December</td>\n",
       "    </tr>\n",
       "    <tr>\n",
       "      <th>5807</th>\n",
       "      <td>3/02/2025 10:21:44</td>\n",
       "      <td>Alfàs del Pi, l'</td>\n",
       "      <td>2/11/2024</td>\n",
       "      <td>Dansa</td>\n",
       "      <td>NaN</td>\n",
       "      <td>Gala Flamenca</td>\n",
       "      <td>Juan Carlos Avecilla</td>\n",
       "      <td>Auditori Casa de la Cultura</td>\n",
       "      <td>Espanyol</td>\n",
       "      <td>20</td>\n",
       "      <td>Cultura</td>\n",
       "      <td>Espanyol</td>\n",
       "      <td>https://www.lalfas.es/concejalias/cultura/este...</td>\n",
       "      <td>Martí</td>\n",
       "      <td>20.0</td>\n",
       "      <td>Dansa</td>\n",
       "      <td>November</td>\n",
       "    </tr>\n",
       "    <tr>\n",
       "      <th>5808</th>\n",
       "      <td>3/02/2025 10:23:01</td>\n",
       "      <td>Alcoi</td>\n",
       "      <td>22/11/2024</td>\n",
       "      <td>Teatre</td>\n",
       "      <td>NaN</td>\n",
       "      <td>Betlem de Tirisiti</td>\n",
       "      <td>La dependent</td>\n",
       "      <td>Teatre Principal</td>\n",
       "      <td>Valencià/català</td>\n",
       "      <td>5</td>\n",
       "      <td>En col·laboració o organitzat per una entitat ...</td>\n",
       "      <td>Valencià/català</td>\n",
       "      <td>https://webdetirisiti.com/la-companyia/</td>\n",
       "      <td>Alba</td>\n",
       "      <td>5.0</td>\n",
       "      <td>Teatre</td>\n",
       "      <td>November</td>\n",
       "    </tr>\n",
       "    <tr>\n",
       "      <th>5809</th>\n",
       "      <td>3/02/2025 10:25:24</td>\n",
       "      <td>Albatera</td>\n",
       "      <td>23/11/2024</td>\n",
       "      <td>Música</td>\n",
       "      <td>NaN</td>\n",
       "      <td>Concierto de Santa Cecilia por las víctimas y...</td>\n",
       "      <td>asociación musical ‘Santiago Apóstol’ y la pia...</td>\n",
       "      <td>Casa de Cultura  ‘Miguel Hernández’ de Albatera</td>\n",
       "      <td>No hi ha informació</td>\n",
       "      <td>NaN</td>\n",
       "      <td>En col·laboració o organitzat per una entitat ...</td>\n",
       "      <td>Espanyol</td>\n",
       "      <td>https://todoculturavegabaja.es/eventos/albater...</td>\n",
       "      <td>Neus</td>\n",
       "      <td>NaN</td>\n",
       "      <td>Música</td>\n",
       "      <td>November</td>\n",
       "    </tr>\n",
       "    <tr>\n",
       "      <th>5810</th>\n",
       "      <td>3/02/2025 10:25:40</td>\n",
       "      <td>Altea</td>\n",
       "      <td>4/10/2024</td>\n",
       "      <td>Música</td>\n",
       "      <td>NaN</td>\n",
       "      <td>Concierto del Coro Gospel Altea</td>\n",
       "      <td>Coro Gospel Altea</td>\n",
       "      <td>Parroquia de Santa Anna (Altea la Vella)</td>\n",
       "      <td>No hi ha informació</td>\n",
       "      <td>NaN</td>\n",
       "      <td>Cultura</td>\n",
       "      <td>Espanyol</td>\n",
       "      <td>https://www.alteacultural.com/2024/10/04/agend...</td>\n",
       "      <td>Gabriel</td>\n",
       "      <td>NaN</td>\n",
       "      <td>Música</td>\n",
       "      <td>October</td>\n",
       "    </tr>\n",
       "    <tr>\n",
       "      <th>...</th>\n",
       "      <td>...</td>\n",
       "      <td>...</td>\n",
       "      <td>...</td>\n",
       "      <td>...</td>\n",
       "      <td>...</td>\n",
       "      <td>...</td>\n",
       "      <td>...</td>\n",
       "      <td>...</td>\n",
       "      <td>...</td>\n",
       "      <td>...</td>\n",
       "      <td>...</td>\n",
       "      <td>...</td>\n",
       "      <td>...</td>\n",
       "      <td>...</td>\n",
       "      <td>...</td>\n",
       "      <td>...</td>\n",
       "      <td>...</td>\n",
       "    </tr>\n",
       "    <tr>\n",
       "      <th>2796</th>\n",
       "      <td>28/03/2025 10:39:29</td>\n",
       "      <td>Vinaròs</td>\n",
       "      <td>20/03/2025</td>\n",
       "      <td>Club de lectura</td>\n",
       "      <td>NaN</td>\n",
       "      <td>Llibre de meravelles</td>\n",
       "      <td>Vicent Andrés Estellés</td>\n",
       "      <td>Sala d'actes Biblioteca Municipal</td>\n",
       "      <td>Valencià/català</td>\n",
       "      <td>NaN</td>\n",
       "      <td>En col·laboració o organitzat per una entitat ...</td>\n",
       "      <td>Valencià/català</td>\n",
       "      <td>https://www.vinaros.es/index.php/es/contenido/...</td>\n",
       "      <td>Gabriel</td>\n",
       "      <td>NaN</td>\n",
       "      <td>Club de lectura</td>\n",
       "      <td>March</td>\n",
       "    </tr>\n",
       "    <tr>\n",
       "      <th>2797</th>\n",
       "      <td>28/03/2025 10:41:17</td>\n",
       "      <td>Vinaròs</td>\n",
       "      <td>21/03/2025</td>\n",
       "      <td>Lectura poemes</td>\n",
       "      <td>NaN</td>\n",
       "      <td>II Celebració del Dia Mundial de la Poesía</td>\n",
       "      <td>Eduard Marco i Alfred Giner Sorolla</td>\n",
       "      <td>Sala d'actes Biblioteca Municipal</td>\n",
       "      <td>No hi ha informació</td>\n",
       "      <td>NaN</td>\n",
       "      <td>En col·laboració o organitzat per una entitat ...</td>\n",
       "      <td>Valencià/català</td>\n",
       "      <td>https://www.vinaros.es/index.php/es/contenido/...</td>\n",
       "      <td>Gabriel</td>\n",
       "      <td>NaN</td>\n",
       "      <td>Lectura poemes</td>\n",
       "      <td>March</td>\n",
       "    </tr>\n",
       "    <tr>\n",
       "      <th>2798</th>\n",
       "      <td>28/03/2025 10:42:21</td>\n",
       "      <td>Vinaròs</td>\n",
       "      <td>21/03/2025</td>\n",
       "      <td>Cinema</td>\n",
       "      <td>NaN</td>\n",
       "      <td>Las niñas</td>\n",
       "      <td>Pilar Romero</td>\n",
       "      <td>Auditori Vinalab</td>\n",
       "      <td>Espanyol</td>\n",
       "      <td>NaN</td>\n",
       "      <td>En col·laboració o organitzat per una entitat ...</td>\n",
       "      <td>Valencià/català</td>\n",
       "      <td>https://www.vinaros.es/index.php/es/contenido/...</td>\n",
       "      <td>Gabriel</td>\n",
       "      <td>NaN</td>\n",
       "      <td>Cinema</td>\n",
       "      <td>March</td>\n",
       "    </tr>\n",
       "    <tr>\n",
       "      <th>2799</th>\n",
       "      <td>28/03/2025 10:43:38</td>\n",
       "      <td>Vinaròs</td>\n",
       "      <td>22/03/2025</td>\n",
       "      <td>Música</td>\n",
       "      <td>NaN</td>\n",
       "      <td>VII Trobada d'oboés de les Terres de l'Ebre i ...</td>\n",
       "      <td>NaN</td>\n",
       "      <td>Auditori Vinalab</td>\n",
       "      <td>Valencià/català, No hi ha informació</td>\n",
       "      <td>NaN</td>\n",
       "      <td>Cultura</td>\n",
       "      <td>Valencià/català</td>\n",
       "      <td>https://www.vinaros.es/index.php/es/contenido/...</td>\n",
       "      <td>Gabriel</td>\n",
       "      <td>NaN</td>\n",
       "      <td>Música</td>\n",
       "      <td>March</td>\n",
       "    </tr>\n",
       "    <tr>\n",
       "      <th>2800</th>\n",
       "      <td>28/03/2025 10:46:35</td>\n",
       "      <td>Vinaròs</td>\n",
       "      <td>29/03/2025</td>\n",
       "      <td>Música</td>\n",
       "      <td>NaN</td>\n",
       "      <td>Concert d'orge i orquestra</td>\n",
       "      <td>SM La Alianza de Vinaròs</td>\n",
       "      <td>Església Arxiprestal</td>\n",
       "      <td>Activitat sense llengua</td>\n",
       "      <td>NaN</td>\n",
       "      <td>Cultura</td>\n",
       "      <td>Valencià/català</td>\n",
       "      <td>https://www.vinaros.es/index.php/es/contenido/...</td>\n",
       "      <td>Gabriel</td>\n",
       "      <td>NaN</td>\n",
       "      <td>Música</td>\n",
       "      <td>March</td>\n",
       "    </tr>\n",
       "  </tbody>\n",
       "</table>\n",
       "<p>7023 rows × 17 columns</p>\n",
       "</div>"
      ],
      "text/plain": [
       "              marca_temps         localitat        data        categoria  \\\n",
       "4612  11/04/2024 13:05:08        Torrevieja   7/12/2024           Música   \n",
       "5807   3/02/2025 10:21:44  Alfàs del Pi, l'   2/11/2024            Dansa   \n",
       "5808   3/02/2025 10:23:01             Alcoi  22/11/2024           Teatre   \n",
       "5809   3/02/2025 10:25:24          Albatera  23/11/2024           Música   \n",
       "5810   3/02/2025 10:25:40             Altea   4/10/2024           Música   \n",
       "...                   ...               ...         ...              ...   \n",
       "2796  28/03/2025 10:39:29           Vinaròs  20/03/2025  Club de lectura   \n",
       "2797  28/03/2025 10:41:17           Vinaròs  21/03/2025   Lectura poemes   \n",
       "2798  28/03/2025 10:42:21           Vinaròs  21/03/2025           Cinema   \n",
       "2799  28/03/2025 10:43:38           Vinaròs  22/03/2025           Música   \n",
       "2800  28/03/2025 10:46:35           Vinaròs  29/03/2025           Música   \n",
       "\n",
       "     categoria_alternativa                                      nom_activitat  \\\n",
       "4612                   NaN                                  Concierto Camela    \n",
       "5807                   NaN                                      Gala Flamenca   \n",
       "5808                   NaN                                 Betlem de Tirisiti   \n",
       "5809                   NaN   Concierto de Santa Cecilia por las víctimas y...   \n",
       "5810                   NaN                    Concierto del Coro Gospel Altea   \n",
       "...                    ...                                                ...   \n",
       "2796                   NaN                               Llibre de meravelles   \n",
       "2797                   NaN         II Celebració del Dia Mundial de la Poesía   \n",
       "2798                   NaN                                          Las niñas   \n",
       "2799                   NaN  VII Trobada d'oboés de les Terres de l'Ebre i ...   \n",
       "2800                   NaN                         Concert d'orge i orquestra   \n",
       "\n",
       "                                              companyia  \\\n",
       "4612                                             Camela   \n",
       "5807                               Juan Carlos Avecilla   \n",
       "5808                                      La dependent    \n",
       "5809  asociación musical ‘Santiago Apóstol’ y la pia...   \n",
       "5810                                  Coro Gospel Altea   \n",
       "...                                                 ...   \n",
       "2796                             Vicent Andrés Estellés   \n",
       "2797                Eduard Marco i Alfred Giner Sorolla   \n",
       "2798                                       Pilar Romero   \n",
       "2799                                                NaN   \n",
       "2800                           SM La Alianza de Vinaròs   \n",
       "\n",
       "                                                 lloc  \\\n",
       "4612             Palacio de Deportes \"Tavi y Carmona\"   \n",
       "5807                      Auditori Casa de la Cultura   \n",
       "5808                                 Teatre Principal   \n",
       "5809  Casa de Cultura  ‘Miguel Hernández’ de Albatera   \n",
       "5810         Parroquia de Santa Anna (Altea la Vella)   \n",
       "...                                               ...   \n",
       "2796                Sala d'actes Biblioteca Municipal   \n",
       "2797                Sala d'actes Biblioteca Municipal   \n",
       "2798                                 Auditori Vinalab   \n",
       "2799                                 Auditori Vinalab   \n",
       "2800                             Església Arxiprestal   \n",
       "\n",
       "                         llengua_activitat preu  \\\n",
       "4612                              Espanyol  NaN   \n",
       "5807                              Espanyol   20   \n",
       "5808                       Valencià/català    5   \n",
       "5809                   No hi ha informació  NaN   \n",
       "5810                   No hi ha informació  NaN   \n",
       "...                                    ...  ...   \n",
       "2796                       Valencià/català  NaN   \n",
       "2797                   No hi ha informació  NaN   \n",
       "2798                              Espanyol  NaN   \n",
       "2799  Valencià/català, No hi ha informació  NaN   \n",
       "2800               Activitat sense llengua  NaN   \n",
       "\n",
       "                                              regidoria llengua_publicitat  \\\n",
       "4612                                            Cultura           Espanyol   \n",
       "5807                                            Cultura           Espanyol   \n",
       "5808  En col·laboració o organitzat per una entitat ...    Valencià/català   \n",
       "5809  En col·laboració o organitzat per una entitat ...           Espanyol   \n",
       "5810                                            Cultura           Espanyol   \n",
       "...                                                 ...                ...   \n",
       "2796  En col·laboració o organitzat per una entitat ...    Valencià/català   \n",
       "2797  En col·laboració o organitzat per una entitat ...    Valencià/català   \n",
       "2798  En col·laboració o organitzat per una entitat ...    Valencià/català   \n",
       "2799                                            Cultura    Valencià/català   \n",
       "2800                                            Cultura    Valencià/català   \n",
       "\n",
       "                                                   font persona_dades  \\\n",
       "4612  https://www.facebook.com/photo/?fbid=757277143...     Christian   \n",
       "5807  https://www.lalfas.es/concejalias/cultura/este...         Martí   \n",
       "5808            https://webdetirisiti.com/la-companyia/          Alba   \n",
       "5809  https://todoculturavegabaja.es/eventos/albater...          Neus   \n",
       "5810  https://www.alteacultural.com/2024/10/04/agend...       Gabriel   \n",
       "...                                                 ...           ...   \n",
       "2796  https://www.vinaros.es/index.php/es/contenido/...       Gabriel   \n",
       "2797  https://www.vinaros.es/index.php/es/contenido/...       Gabriel   \n",
       "2798  https://www.vinaros.es/index.php/es/contenido/...       Gabriel   \n",
       "2799  https://www.vinaros.es/index.php/es/contenido/...       Gabriel   \n",
       "2800  https://www.vinaros.es/index.php/es/contenido/...       Gabriel   \n",
       "\n",
       "     preu_mitja    categoria_new       Mes  \n",
       "4612        NaN           Música  December  \n",
       "5807       20.0            Dansa  November  \n",
       "5808        5.0           Teatre  November  \n",
       "5809        NaN           Música  November  \n",
       "5810        NaN           Música   October  \n",
       "...         ...              ...       ...  \n",
       "2796        NaN  Club de lectura     March  \n",
       "2797        NaN   Lectura poemes     March  \n",
       "2798        NaN           Cinema     March  \n",
       "2799        NaN           Música     March  \n",
       "2800        NaN           Música     March  \n",
       "\n",
       "[7023 rows x 17 columns]"
      ]
     },
     "execution_count": 209,
     "metadata": {},
     "output_type": "execute_result"
    }
   ],
   "source": [
    "activitats.loc[pd.to_datetime(activitats.data, format=\"%d/%m/%Y\") > pd.to_datetime(\"2024/06/30\")]"
   ]
  },
  {
   "cell_type": "code",
   "execution_count": null,
   "metadata": {},
   "outputs": [],
   "source": [
    "activitats[\"any_estudi\"] = pd.to_datetime(activitats.data, format=\"%d/%m/%Y\").apply(lambda x: set_analisi_year(x))"
   ]
  },
  {
   "attachments": {},
   "cell_type": "markdown",
   "metadata": {},
   "source": [
    "* Nou conjunt de dades: activitats_summaries.csv\n",
    "\n",
    "llengua activitat"
   ]
  },
  {
   "cell_type": "code",
   "execution_count": null,
   "metadata": {},
   "outputs": [
    {
     "name": "stderr",
     "output_type": "stream",
     "text": [
      "C:\\Users\\quimm\\AppData\\Local\\Temp\\ipykernel_9412\\334360915.py:6: DeprecationWarning: DataFrameGroupBy.apply operated on the grouping columns. This behavior is deprecated, and in a future version of pandas the grouping columns will be excluded from the operation. Either pass `include_groups=False` to exclude the groupings or explicitly select the grouping columns after groupby to silence this warning.\n",
      "  grup1 = grup1.groupby(\"localitat\").apply(lambda x : x.sort_values(by = 'count_llengua', ascending = False).head(3).reset_index(drop = True))\n"
     ]
    }
   ],
   "source": [
    "grup1 = activitats.groupby([\"localitat\",\"llengua_activitat\"])[\"llengua_activitat\"].count()\n",
    "grup1 = pd.DataFrame(grup1)\n",
    "grup1.columns = [\"count_llengua\"]\n",
    "grup1= grup1.reset_index()\n",
    "\n",
    "grup1 = grup1.groupby(\"localitat\").apply(lambda x : x.sort_values(by = 'count_llengua', ascending = False).head(3).reset_index(drop = True))\n",
    "grup1.columns = [\"localitat_col\", 'llengua_activitat', 'count_llengua']\n",
    "\n",
    "llengua_activitat_top1 = grup1.groupby(\"localitat\").apply(lambda x : x.head(1).reset_index(drop = True))[\"llengua_activitat\"]\n",
    "llengua_activitat_top2 = grup1.groupby(\"localitat\").apply(lambda x : x.head(2).tail(1).reset_index(drop = True))[\"llengua_activitat\"]\n",
    "llengua_activitat_top3 = grup1.groupby(\"localitat\").apply(lambda x : x.tail(1).reset_index(drop = True))[\"llengua_activitat\"]"
   ]
  },
  {
   "attachments": {},
   "cell_type": "markdown",
   "metadata": {},
   "source": [
    "llengua publicitat"
   ]
  },
  {
   "cell_type": "code",
   "execution_count": null,
   "metadata": {},
   "outputs": [
    {
     "name": "stderr",
     "output_type": "stream",
     "text": [
      "C:\\Users\\quimm\\AppData\\Local\\Temp\\ipykernel_9412\\3631808114.py:6: DeprecationWarning: DataFrameGroupBy.apply operated on the grouping columns. This behavior is deprecated, and in a future version of pandas the grouping columns will be excluded from the operation. Either pass `include_groups=False` to exclude the groupings or explicitly select the grouping columns after groupby to silence this warning.\n",
      "  grup1 = grup1.groupby(\"localitat\").apply(lambda x : x.sort_values(by = 'count_llengua', ascending = False).head(2).reset_index(drop = True))\n"
     ]
    }
   ],
   "source": [
    "grup1 = activitats.groupby([\"localitat\",\"llengua_publicitat\"])[\"llengua_publicitat\"].count()\n",
    "grup1 = pd.DataFrame(grup1)\n",
    "grup1.columns = [\"count_llengua\"]\n",
    "grup1= grup1.reset_index()\n",
    "\n",
    "grup1 = grup1.groupby(\"localitat\").apply(lambda x : x.sort_values(by = 'count_llengua', ascending = False).head(2).reset_index(drop = True))\n",
    "grup1.columns = [\"localitat_col\", 'llengua_activitat', 'count_llengua']\n",
    "\n",
    "llengua_publicitat_top1 = grup1.groupby(\"localitat\").apply(lambda x : x.head(1).reset_index(drop = True))[\"llengua_activitat\"]\n",
    "llengua_publicitat_top2 = grup1.groupby(\"localitat\").apply(lambda x : x.tail(1).reset_index(drop = True))[\"llengua_activitat\"]"
   ]
  },
  {
   "attachments": {},
   "cell_type": "markdown",
   "metadata": {},
   "source": [
    "Language position"
   ]
  },
  {
   "cell_type": "code",
   "execution_count": null,
   "metadata": {},
   "outputs": [
    {
     "name": "stderr",
     "output_type": "stream",
     "text": [
      "C:\\Users\\quimm\\AppData\\Local\\Temp\\ipykernel_9412\\2141191287.py:6: DeprecationWarning: DataFrameGroupBy.apply operated on the grouping columns. This behavior is deprecated, and in a future version of pandas the grouping columns will be excluded from the operation. Either pass `include_groups=False` to exclude the groupings or explicitly select the grouping columns after groupby to silence this warning.\n",
      "  grup1 = grup1.groupby(\"localitat\").apply(lambda x : x.sort_values(by = 'count_llengua', ascending = False).reset_index(drop = True))\n"
     ]
    }
   ],
   "source": [
    "grup1 = activitats.groupby([\"localitat\",\"llengua_activitat\"])[\"llengua_activitat\"].count()\n",
    "grup1 = pd.DataFrame(grup1)\n",
    "grup1.columns = [\"count_llengua\"]\n",
    "grup1= grup1.reset_index()\n",
    "\n",
    "grup1 = grup1.groupby(\"localitat\").apply(lambda x : x.sort_values(by = 'count_llengua', ascending = False).reset_index(drop = True))\n",
    "grup1.columns = [\"localitat_col\", 'llengua_activitat', 'count_llengua']"
   ]
  },
  {
   "cell_type": "code",
   "execution_count": null,
   "metadata": {},
   "outputs": [],
   "source": [
    "pos_val = grup1.groupby(\"localitat\").apply(lambda x : x.index[x[\"llengua_activitat\"]==\"Valencià/català\"])\n",
    "pos_val = pd.DataFrame(pos_val)\n",
    "\n",
    "pos_cas = grup1.groupby(\"localitat\").apply(lambda x : x.index[x[\"llengua_activitat\"]==\"Espanyol\"])\n",
    "pos_cas = pd.DataFrame(pos_cas)"
   ]
  },
  {
   "cell_type": "code",
   "execution_count": null,
   "metadata": {},
   "outputs": [],
   "source": [
    "def get_position(array):\n",
    "    \"get the position of the language in the most used ones. If not used, number 5 assigned\"\n",
    "    try:\n",
    "        return array[0][0][1]\n",
    "    except:\n",
    "        return 5"
   ]
  },
  {
   "cell_type": "code",
   "execution_count": null,
   "metadata": {},
   "outputs": [],
   "source": [
    "positions_val = []\n",
    "\n",
    "for i in range(pos_val.shape[0]):\n",
    "    positions_val.append(get_position(pos_val.iloc[i]))"
   ]
  },
  {
   "cell_type": "code",
   "execution_count": null,
   "metadata": {},
   "outputs": [],
   "source": [
    "positions_cas = []\n",
    "\n",
    "for i in range(pos_cas.shape[0]):\n",
    "    positions_cas.append(get_position(pos_cas.iloc[i]))"
   ]
  },
  {
   "attachments": {},
   "cell_type": "markdown",
   "metadata": {},
   "source": [
    "N activitats"
   ]
  },
  {
   "cell_type": "code",
   "execution_count": null,
   "metadata": {},
   "outputs": [],
   "source": [
    "grup1 = activitats.groupby([\"localitat\"])[\"llengua_activitat\"].count()\n",
    "n_activivitats = grup1.values"
   ]
  },
  {
   "attachments": {},
   "cell_type": "markdown",
   "metadata": {},
   "source": [
    "* Creating datasets\n",
    "\n",
    "activitats_summaries"
   ]
  },
  {
   "cell_type": "code",
   "execution_count": null,
   "metadata": {},
   "outputs": [],
   "source": [
    "activitats_summaries = pd.DataFrame(llengua_activitat_top1)\n",
    "activitats_summaries = activitats_summaries.reset_index()\n",
    "del activitats_summaries[\"level_1\"]\n",
    "activitats_summaries.columns = ['localitat', 'llengua_activitat_top1']"
   ]
  },
  {
   "cell_type": "code",
   "execution_count": null,
   "metadata": {},
   "outputs": [],
   "source": [
    "activitats_summaries['llengua_activitat_top2'] = llengua_activitat_top2.values\n",
    "activitats_summaries['llengua_activitat_top3'] = llengua_activitat_top3.values\n",
    "activitats_summaries['llengua_publicitat_top1'] = llengua_publicitat_top1.values\n",
    "activitats_summaries['llengua_publicitat_top2'] = llengua_publicitat_top2.values\n",
    "activitats_summaries[\"position_val_in_llengua_activitat\"] = positions_val\n",
    "activitats_summaries[\"position_esp_in_llengua_activitat\"] = positions_cas\n",
    "activitats_summaries[\"n_activitats\"] = n_activivitats"
   ]
  },
  {
   "cell_type": "code",
   "execution_count": null,
   "metadata": {},
   "outputs": [],
   "source": [
    "#ratio_activitats_nhabitants\n",
    "aux = activitats_summaries.merge(ajuntaments_info[[\"ajuntament\", \"n_habitants\"]], how ='left', left_on=\"localitat\", right_on = \"ajuntament\")\n",
    "activitats_summaries[\"ratio_activitats_nhabitants\"] = aux[\"n_activitats\"]/(aux[\"n_habitants\"]/1000)"
   ]
  },
  {
   "attachments": {},
   "cell_type": "markdown",
   "metadata": {},
   "source": [
    "Saving Datasets"
   ]
  },
  {
   "cell_type": "code",
   "execution_count": null,
   "metadata": {},
   "outputs": [],
   "source": [
    "activitats.to_csv(\"data/activitats.csv\", index=False)"
   ]
  },
  {
   "cell_type": "code",
   "execution_count": null,
   "metadata": {},
   "outputs": [],
   "source": [
    "activitats_summaries.to_csv(\"data/activitats_summaries.csv\", index=False)"
   ]
  },
  {
   "cell_type": "code",
   "execution_count": null,
   "metadata": {},
   "outputs": [],
   "source": [
    "ajuntaments_info.to_csv(\"data/ajuntaments_info.csv\", index=False)"
   ]
  }
 ],
 "metadata": {
  "kernelspec": {
   "display_name": "Python 3",
   "language": "python",
   "name": "python3"
  },
  "language_info": {
   "codemirror_mode": {
    "name": "ipython",
    "version": 3
   },
   "file_extension": ".py",
   "mimetype": "text/x-python",
   "name": "python",
   "nbconvert_exporter": "python",
   "pygments_lexer": "ipython3",
   "version": "3.12.9"
  },
  "orig_nbformat": 4
 },
 "nbformat": 4,
 "nbformat_minor": 2
}
